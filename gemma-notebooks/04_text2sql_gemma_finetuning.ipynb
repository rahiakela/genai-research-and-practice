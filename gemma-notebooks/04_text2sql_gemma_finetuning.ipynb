{
  "nbformat": 4,
  "nbformat_minor": 0,
  "metadata": {
    "colab": {
      "provenance": [],
      "gpuType": "T4",
      "toc_visible": true,
      "include_colab_link": true
    },
    "kernelspec": {
      "name": "python3",
      "display_name": "Python 3"
    },
    "language_info": {
      "name": "python"
    },
    "accelerator": "GPU"
  },
  "cells": [
    {
      "cell_type": "markdown",
      "metadata": {
        "id": "view-in-github",
        "colab_type": "text"
      },
      "source": [
        "<a href=\"https://colab.research.google.com/github/rahiakela/genai-research-and-practice/blob/main/gemma-notebooks/04_text2sql_gemma_finetuning.ipynb\" target=\"_parent\"><img src=\"https://colab.research.google.com/assets/colab-badge.svg\" alt=\"Open In Colab\"/></a>"
      ]
    },
    {
      "cell_type": "markdown",
      "source": [
        "##Setup"
      ],
      "metadata": {
        "id": "ZKBe3hJrlThT"
      }
    },
    {
      "cell_type": "code",
      "source": [
        "!pip3 install -q -U bitsandbytes==0.42.0\n",
        "!pip3 install -q -U peft==0.8.2\n",
        "!pip3 install -q -U trl==0.7.10\n",
        "!pip3 install -q -U accelerate==0.27.1\n",
        "!pip3 install -q -U datasets==2.17.0\n",
        "!pip3 install -q -U transformers==4.38.0"
      ],
      "metadata": {
        "id": "-5gJk3W_s0RY"
      },
      "execution_count": null,
      "outputs": []
    },
    {
      "cell_type": "code",
      "execution_count": 2,
      "metadata": {
        "id": "mi50mprVsU_P"
      },
      "outputs": [],
      "source": [
        "import os\n",
        "import transformers\n",
        "import torch\n",
        "from google.colab import userdata\n",
        "from datasets import load_dataset\n",
        "from trl import SFTTrainer\n",
        "from peft import LoraConfig\n",
        "from transformers import AutoTokenizer, AutoModelForCausalLM\n",
        "from transformers import BitsAndBytesConfig, GemmaTokenizer"
      ]
    },
    {
      "cell_type": "code",
      "source": [
        "os.environ[\"HF_TOKEN\"] = userdata.get('HF_TOKEN')"
      ],
      "metadata": {
        "id": "3XgwC9A4idTY"
      },
      "execution_count": 3,
      "outputs": []
    },
    {
      "cell_type": "markdown",
      "source": [
        "##QLoRA"
      ],
      "metadata": {
        "id": "6t_nQuUmjSt2"
      }
    },
    {
      "cell_type": "code",
      "source": [
        "model_id = \"google/gemma-2b\"\n",
        "bnb_config = BitsAndBytesConfig(\n",
        "    load_in_4bit=True,\n",
        "    bnb_4bit_quant_type=\"nf4\",\n",
        "    bnb_4bit_compute_dtype=torch.bfloat16\n",
        ")"
      ],
      "metadata": {
        "id": "2B7XLisjijDM"
      },
      "execution_count": 4,
      "outputs": []
    },
    {
      "cell_type": "markdown",
      "source": [
        "##Gemma"
      ],
      "metadata": {
        "id": "TCvNutDYnSAC"
      }
    },
    {
      "cell_type": "code",
      "source": [
        "tokenizer = AutoTokenizer.from_pretrained(model_id, token=os.environ['HF_TOKEN'])\n",
        "prt_model = AutoModelForCausalLM.from_pretrained(model_id,\n",
        "                                             quantization_config=bnb_config,\n",
        "                                             device_map={\"\":0},\n",
        "                                             token=os.environ['HF_TOKEN'])"
      ],
      "metadata": {
        "id": "EVEotZX8s-v6"
      },
      "execution_count": null,
      "outputs": []
    },
    {
      "cell_type": "code",
      "source": [
        "text = \"\"\"Question: What is the average number of working horses of farms with greater than 45 total number of horses?\n",
        "Context: CREATE TABLE farm (Working_Horses INTEGER, Total_Horses INTEGER)\"\"\"\n",
        "device = \"cuda:0\"\n",
        "inputs = tokenizer(text, return_tensors=\"pt\").to(device)\n",
        "\n",
        "outputs = prt_model.generate(**inputs, max_new_tokens=20)\n",
        "print(tokenizer.decode(outputs[0], skip_special_tokens=True))"
      ],
      "metadata": {
        "colab": {
          "base_uri": "https://localhost:8080/"
        },
        "id": "VOJjOyxfHpFh",
        "outputId": "3f8135d6-2728-4c5d-a822-481a4698aba8"
      },
      "execution_count": 6,
      "outputs": [
        {
          "output_type": "stream",
          "name": "stdout",
          "text": [
            "Question: What is the average number of working horses of farms with greater than 45 total number of horses?\n",
            "Context: CREATE TABLE farm (Working_Horses INTEGER, Total_Horses INTEGER)\n",
            "INSERT INTO farm VALUES (10, 100);\n",
            "INSERT INTO farm VALUES (\n"
          ]
        }
      ]
    },
    {
      "cell_type": "code",
      "source": [
        "os.environ[\"WANDB_DISABLED\"] = \"false\""
      ],
      "metadata": {
        "id": "Mi2P12KsVbyt"
      },
      "execution_count": 7,
      "outputs": []
    },
    {
      "cell_type": "markdown",
      "source": [
        "##LoRA"
      ],
      "metadata": {
        "id": "76Aps-YYjYgd"
      }
    },
    {
      "cell_type": "code",
      "source": [
        "lora_config = LoraConfig(\n",
        "    r = 8,\n",
        "    target_modules = [\"q_proj\", \"o_proj\", \"k_proj\", \"v_proj\",\n",
        "                      \"gate_proj\", \"up_proj\", \"down_proj\"],\n",
        "    task_type = \"CAUSAL_LM\",\n",
        ")"
      ],
      "metadata": {
        "id": "7lzjoG3KVRMN"
      },
      "execution_count": 8,
      "outputs": []
    },
    {
      "cell_type": "markdown",
      "source": [
        "##Dataset"
      ],
      "metadata": {
        "id": "UybzWw0jjeci"
      }
    },
    {
      "cell_type": "code",
      "source": [
        "data = load_dataset(\"b-mc2/sql-create-context\")"
      ],
      "metadata": {
        "id": "7RRETzYMaI9s"
      },
      "execution_count": null,
      "outputs": []
    },
    {
      "cell_type": "code",
      "source": [
        "data"
      ],
      "metadata": {
        "colab": {
          "base_uri": "https://localhost:8080/"
        },
        "id": "-fjShR8qIEZ3",
        "outputId": "907e42e1-a1dd-4f1c-c239-c3e6c1198b02"
      },
      "execution_count": 10,
      "outputs": [
        {
          "output_type": "execute_result",
          "data": {
            "text/plain": [
              "DatasetDict({\n",
              "    train: Dataset({\n",
              "        features: ['context', 'question', 'answer'],\n",
              "        num_rows: 78577\n",
              "    })\n",
              "})"
            ]
          },
          "metadata": {},
          "execution_count": 10
        }
      ]
    },
    {
      "cell_type": "code",
      "source": [
        "data[\"train\"][0]"
      ],
      "metadata": {
        "colab": {
          "base_uri": "https://localhost:8080/"
        },
        "id": "mp7ZdDkPIGVi",
        "outputId": "45d6156a-be69-4690-b9ac-bb40a4ed5f51"
      },
      "execution_count": 11,
      "outputs": [
        {
          "output_type": "execute_result",
          "data": {
            "text/plain": [
              "{'context': 'CREATE TABLE head (age INTEGER)',\n",
              " 'question': 'How many heads of the departments are older than 56 ?',\n",
              " 'answer': 'SELECT COUNT(*) FROM head WHERE age > 56'}"
            ]
          },
          "metadata": {},
          "execution_count": 11
        }
      ]
    },
    {
      "cell_type": "code",
      "source": [
        "data[\"train\"][4]"
      ],
      "metadata": {
        "id": "GKnVnOdkjm4y",
        "outputId": "23c10b9e-819e-44bd-8dc7-b5e9c481b5ec",
        "colab": {
          "base_uri": "https://localhost:8080/"
        }
      },
      "execution_count": 12,
      "outputs": [
        {
          "output_type": "execute_result",
          "data": {
            "text/plain": [
              "{'context': 'CREATE TABLE department (num_employees INTEGER, ranking INTEGER)',\n",
              " 'question': 'What is the average number of employees of the departments whose rank is between 10 and 15?',\n",
              " 'answer': 'SELECT AVG(num_employees) FROM department WHERE ranking BETWEEN 10 AND 15'}"
            ]
          },
          "metadata": {},
          "execution_count": 12
        }
      ]
    },
    {
      "cell_type": "code",
      "source": [
        "data = data.map(lambda samples: tokenizer(samples[\"question\"],\n",
        "                                          samples[\"context\"]), batched=True)"
      ],
      "metadata": {
        "id": "YCzrxzpnH9HI"
      },
      "execution_count": null,
      "outputs": []
    },
    {
      "cell_type": "code",
      "source": [
        "def formatting_func(example):\n",
        "    text = f\"Question: {example['question'][0]}\\nContext: {example['context'][0]}\\nAnswer: {example['answer'][0]}\"\n",
        "    return [text]"
      ],
      "metadata": {
        "id": "OUk5mh0ijek6"
      },
      "execution_count": 14,
      "outputs": []
    },
    {
      "cell_type": "markdown",
      "source": [
        "##Fine-tuning"
      ],
      "metadata": {
        "id": "wBaLJ1xUjunD"
      }
    },
    {
      "cell_type": "code",
      "source": [
        "trainer = SFTTrainer(\n",
        "    model=prt_model,\n",
        "    train_dataset=data[\"train\"],\n",
        "    args=transformers.TrainingArguments(\n",
        "        per_device_train_batch_size=4,\n",
        "        gradient_accumulation_steps=4,\n",
        "        warmup_steps=2,\n",
        "        max_steps=75,\n",
        "        learning_rate=2e-4,\n",
        "        fp16=True,\n",
        "        logging_steps=1,\n",
        "        output_dir=\"outputs\",\n",
        "        optim=\"paged_adamw_8bit\"\n",
        "    ),\n",
        "    peft_config=lora_config,\n",
        "    formatting_func=formatting_func,\n",
        ")"
      ],
      "metadata": {
        "id": "qZW2D4P9jjAX"
      },
      "execution_count": null,
      "outputs": []
    },
    {
      "cell_type": "code",
      "source": [
        "trainer.train()"
      ],
      "metadata": {
        "id": "Bk0PFuXubvIT"
      },
      "execution_count": null,
      "outputs": []
    },
    {
      "cell_type": "markdown",
      "source": [
        "##Inference"
      ],
      "metadata": {
        "id": "3Ci0JQCIj3vP"
      }
    },
    {
      "cell_type": "code",
      "source": [
        "text = \"\"\"Question: What is the average number of working horses of farms with greater than 45 total number of horses?\n",
        "Context: CREATE TABLE farm (Working_Horses INTEGER, Total_Horses INTEGER)\"\"\"\n",
        "device = \"cuda:0\"\n",
        "inputs = tokenizer(text, return_tensors=\"pt\").to(device)\n",
        "\n",
        "outputs = prt_model.generate(**inputs, max_new_tokens=20)\n",
        "print(tokenizer.decode(outputs[0], skip_special_tokens=True))"
      ],
      "metadata": {
        "colab": {
          "base_uri": "https://localhost:8080/"
        },
        "id": "V_RhEzHzcEhZ",
        "outputId": "867b96d4-d57d-467d-c784-158c8ae57953"
      },
      "execution_count": 17,
      "outputs": [
        {
          "output_type": "stream",
          "name": "stdout",
          "text": [
            "Question: What is the average number of working horses of farms with greater than 45 total number of horses?\n",
            "Context: CREATE TABLE farm (Working_Horses INTEGER, Total_Horses INTEGER)\n",
            "Answer: SELECT AVG(Working_Horses) FROM farm WHERE Total_Horses > 45\n"
          ]
        }
      ]
    },
    {
      "cell_type": "code",
      "source": [
        "text = \"\"\"Question: What is the average return of stock in 3 months?\n",
        "Context: CREATE TABLE stock (return_amount INTEGER, investment_date DATE)\"\"\"\n",
        "device = \"cuda:0\"\n",
        "inputs = tokenizer(text, return_tensors=\"pt\").to(device)\n",
        "\n",
        "outputs = prt_model.generate(**inputs, max_new_tokens=25)\n",
        "print(tokenizer.decode(outputs[0], skip_special_tokens=True))"
      ],
      "metadata": {
        "id": "ikfZisf2cHMU",
        "outputId": "cb55cb10-7fda-415a-9f0e-17d35aabd9a9",
        "colab": {
          "base_uri": "https://localhost:8080/"
        }
      },
      "execution_count": 25,
      "outputs": [
        {
          "output_type": "stream",
          "name": "stdout",
          "text": [
            "Question: What is the average return of stock in 3 months?\n",
            "Context: CREATE TABLE stock (return_amount INTEGER, investment_date DATE)\n",
            "Answer: SELECT AVG(return_amount) FROM stock WHERE investment_date = \"3 MONTHS AGO\"\n",
            "Environment:\n"
          ]
        }
      ]
    },
    {
      "cell_type": "code",
      "source": [
        "text = \"\"\"Question: What is the max return of stock in 2023?\n",
        "Context: CREATE TABLE stock (return_amount INTEGER, date DATE)\"\"\"\n",
        "device = \"cuda:0\"\n",
        "inputs = tokenizer(text, return_tensors=\"pt\").to(device)\n",
        "\n",
        "outputs = prt_model.generate(**inputs, max_new_tokens=28)\n",
        "print(tokenizer.decode(outputs[0], skip_special_tokens=True))"
      ],
      "metadata": {
        "id": "djg3QAMuVx8R",
        "outputId": "42accc4b-1e7a-449a-ce24-2ff1aa048a1f",
        "colab": {
          "base_uri": "https://localhost:8080/"
        }
      },
      "execution_count": 23,
      "outputs": [
        {
          "output_type": "stream",
          "name": "stdout",
          "text": [
            "Question: What is the max return of stock in 2023?\n",
            "Context: CREATE TABLE stock (return_amount INTEGER, date DATE)\n",
            "Answer: SELECT MAX(return_amount) FROM stock WHERE date = \"2023-01-01\"\n",
            "\n"
          ]
        }
      ]
    }
  ]
}