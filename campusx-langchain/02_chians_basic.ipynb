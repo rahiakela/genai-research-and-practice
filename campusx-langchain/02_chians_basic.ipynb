{
  "cells": [
    {
      "cell_type": "markdown",
      "metadata": {
        "id": "view-in-github",
        "colab_type": "text"
      },
      "source": [
        "<a href=\"https://colab.research.google.com/github/rahiakela/genai-research-and-practice/blob/main/campusx-langchain/02_chians_basic.ipynb\" target=\"_parent\"><img src=\"https://colab.research.google.com/assets/colab-badge.svg\" alt=\"Open In Colab\"/></a>"
      ]
    },
    {
      "cell_type": "markdown",
      "id": "ad9b4b85-9d17-468c-b244-73a1c5191e3e",
      "metadata": {
        "id": "ad9b4b85-9d17-468c-b244-73a1c5191e3e"
      },
      "source": [
        "## Setup"
      ]
    },
    {
      "cell_type": "markdown",
      "source": [
        "**Reference**\n",
        "\n",
        "https://python.langchain.com/docs/integrations/chat/google_generative_ai/\n",
        "\n",
        "https://python.langchain.com/docs/integrations/text_embedding/google_generative_ai/"
      ],
      "metadata": {
        "id": "clHIpoVJtbDi"
      },
      "id": "clHIpoVJtbDi"
    },
    {
      "cell_type": "code",
      "source": [
        "%%capture\n",
        "\n",
        "%pip install -qU langchain-google-genai\n",
        "%pip install langchain langchain-community grandalf"
      ],
      "metadata": {
        "id": "2Y-_3oA9r0Ye"
      },
      "id": "2Y-_3oA9r0Ye",
      "execution_count": 1,
      "outputs": []
    },
    {
      "cell_type": "code",
      "source": [
        "import os\n",
        "import json\n",
        "\n",
        "from google.colab import userdata\n",
        "\n",
        "from langchain_google_genai import ChatGoogleGenerativeAI\n",
        "\n",
        "from langchain_core.prompts import PromptTemplate\n",
        "from langchain_core.output_parsers import StrOutputParser, PydanticOutputParser, JsonOutputParser\n",
        "\n",
        "from langchain.output_parsers import StructuredOutputParser, ResponseSchema\n",
        "from langchain.schema.runnable import RunnableParallel, RunnableBranch, RunnableLambda\n",
        "\n",
        "from pydantic import BaseModel, Field\n",
        "from typing import Literal\n",
        "\n",
        "import matplotlib.pyplot as plt\n",
        "from IPython.display import Image, display\n",
        "%matplotlib inline"
      ],
      "metadata": {
        "id": "YNqFuITeWIoh"
      },
      "id": "YNqFuITeWIoh",
      "execution_count": 13,
      "outputs": []
    },
    {
      "cell_type": "code",
      "source": [
        "model = ChatGoogleGenerativeAI(\n",
        "    model=\"gemini-2.0-flash\",\n",
        "    temperature=0,\n",
        "    max_tokens=None,\n",
        "    timeout=None,\n",
        "    max_retries=2,\n",
        "    api_key=userdata.get('GOOGLE_API_KEY')\n",
        ")"
      ],
      "metadata": {
        "id": "73Kz9XvXsz0k"
      },
      "id": "73Kz9XvXsz0k",
      "execution_count": 3,
      "outputs": []
    },
    {
      "cell_type": "markdown",
      "source": [
        "## Step #1: Basic Chain"
      ],
      "metadata": {
        "id": "MHBqpS6NoL6j"
      },
      "id": "MHBqpS6NoL6j"
    },
    {
      "cell_type": "code",
      "source": [
        "template = PromptTemplate(\n",
        "    template='Generate 5 interesting facts about {topic}',\n",
        "    input_variables=['topic']\n",
        ")"
      ],
      "metadata": {
        "id": "WLabwgzEoYcy"
      },
      "id": "WLabwgzEoYcy",
      "execution_count": null,
      "outputs": []
    },
    {
      "cell_type": "code",
      "source": [
        "parser = StrOutputParser()\n",
        "\n",
        "chain = template | model | parser\n",
        "\n",
        "result = chain.invoke({\"topic\":\"cricket\"})"
      ],
      "metadata": {
        "id": "K4tvdnDjnnyH"
      },
      "id": "K4tvdnDjnnyH",
      "execution_count": null,
      "outputs": []
    },
    {
      "cell_type": "code",
      "source": [
        "print(result)"
      ],
      "metadata": {
        "colab": {
          "base_uri": "https://localhost:8080/"
        },
        "id": "jnKbtf9rhYN-",
        "outputId": "10de4552-a751-44d9-a5ce-60b899521ae0"
      },
      "id": "jnKbtf9rhYN-",
      "execution_count": null,
      "outputs": [
        {
          "output_type": "stream",
          "name": "stdout",
          "text": [
            "Okay, here are 5 interesting facts about cricket that you might not know:\n",
            "\n",
            "1.  **The Longest Cricket Match Lasted 12 Days:** A timeless Test match between England and South Africa in Durban in 1939 went on for 12 days (with a rest day in between). It was eventually declared a draw because the English team had to catch their boat home!\n",
            "\n",
            "2.  **Cricket Balls Used to be Stuffed with Feathers:**  Early cricket balls, dating back to the 18th century, were literally stuffed with feathers and then covered in leather. This made them unpredictable and likely quite painful to be hit by!\n",
            "\n",
            "3.  **The \"Cow Corner\" is Named After Actual Cows:** The fielding position known as \"Cow Corner\" got its name because it was often the area where agricultural workers would graze their cows during village cricket matches.  A shot hit in that direction was considered a risky, agricultural-style slog.\n",
            "\n",
            "4.  **Cricket is the Second Most Popular Sport in the World:**  While it might not be as globally ubiquitous as football (soccer), cricket boasts a massive following, particularly in India, Pakistan, Australia, England, and the West Indies. It's estimated to have over 2.5 billion fans worldwide.\n",
            "\n",
            "5.  **A \"Duck\" Isn't Named After the Bird:**  The term \"duck\" for a score of zero is believed to have originated from the shape of a duck's egg, which resembles the number zero. Another theory suggests it comes from the phrase \"duck's egg,\" used to describe a bad score in earlier forms of cricket.\n"
          ]
        }
      ]
    },
    {
      "cell_type": "code",
      "source": [
        "chain.get_graph().print_ascii()"
      ],
      "metadata": {
        "colab": {
          "base_uri": "https://localhost:8080/"
        },
        "id": "vJauy5AvhiGB",
        "outputId": "8c636474-a71e-4de5-8bf2-d7da84165cfe"
      },
      "id": "vJauy5AvhiGB",
      "execution_count": null,
      "outputs": [
        {
          "output_type": "stream",
          "name": "stdout",
          "text": [
            "      +-------------+      \n",
            "      | PromptInput |      \n",
            "      +-------------+      \n",
            "             *             \n",
            "             *             \n",
            "             *             \n",
            "    +----------------+     \n",
            "    | PromptTemplate |     \n",
            "    +----------------+     \n",
            "             *             \n",
            "             *             \n",
            "             *             \n",
            "+------------------------+ \n",
            "| ChatGoogleGenerativeAI | \n",
            "+------------------------+ \n",
            "             *             \n",
            "             *             \n",
            "             *             \n",
            "    +-----------------+    \n",
            "    | StrOutputParser |    \n",
            "    +-----------------+    \n",
            "             *             \n",
            "             *             \n",
            "             *             \n",
            "+-----------------------+  \n",
            "| StrOutputParserOutput |  \n",
            "+-----------------------+  \n"
          ]
        }
      ]
    },
    {
      "cell_type": "markdown",
      "source": [
        "##Step #2: Sequential Chain"
      ],
      "metadata": {
        "id": "Cg6H3FSbuJfj"
      },
      "id": "Cg6H3FSbuJfj"
    },
    {
      "cell_type": "code",
      "source": [
        "template1 = PromptTemplate(\n",
        "    template='Generate a detailed report on {topic}',\n",
        "    input_variables=['topic']\n",
        ")\n",
        "\n",
        "template2 = PromptTemplate(\n",
        "    template='Generate a 5 pointer summary from the following text \\n {text}',\n",
        "    input_variables=['text']\n",
        ")"
      ],
      "metadata": {
        "id": "paBBlUSkiWiX"
      },
      "id": "paBBlUSkiWiX",
      "execution_count": null,
      "outputs": []
    },
    {
      "cell_type": "code",
      "source": [
        "parser = StrOutputParser()\n",
        "\n",
        "chain = template1 | model | parser | template2 | model | parser\n",
        "\n",
        "result = chain.invoke({\"topic\":\"Unemployment in India\"})"
      ],
      "metadata": {
        "id": "Y5nJL6iww3yO"
      },
      "id": "Y5nJL6iww3yO",
      "execution_count": null,
      "outputs": []
    },
    {
      "cell_type": "code",
      "source": [
        "print(result)"
      ],
      "metadata": {
        "colab": {
          "base_uri": "https://localhost:8080/"
        },
        "id": "OPR-jYTK0vdc",
        "outputId": "9e0950bb-b487-4ad7-9871-38b93c3136f5"
      },
      "id": "OPR-jYTK0vdc",
      "execution_count": null,
      "outputs": [
        {
          "output_type": "stream",
          "name": "stdout",
          "text": [
            "Here's a 5-point summary of the provided text on unemployment in India:\n",
            "\n",
            "*   **Unemployment in India is a multifaceted problem characterized by informality, underemployment, and regional disparities, masked by relatively low official unemployment rates.** The true extent of the issue lies in the lack of quality employment opportunities.\n",
            "\n",
            "*   **Key drivers of unemployment include rapid population growth, slow economic growth, a dominant informal sector, skills gaps, and rigid labor laws.** Social factors like the caste system and gender inequality also contribute.\n",
            "\n",
            "*   **India experiences various types of unemployment, including open, disguised, seasonal, structural, and underemployment.** Underemployment is a particularly significant issue.\n",
            "\n",
            "*   **Unemployment has significant economic and social consequences, including reduced economic output, increased poverty, higher crime rates, social unrest, and negative health impacts.**\n",
            "\n",
            "*   **The Indian government has implemented various initiatives like MGNREGA and PMKVY to address unemployment, but challenges remain in data accuracy, informal sector regulation, skill gap bridging, and program implementation.** Recommendations include promoting inclusive growth, investing in education and skills, strengthening the informal sector, and reforming labor laws.\n"
          ]
        }
      ]
    },
    {
      "cell_type": "code",
      "source": [
        "chain.get_graph().print_ascii()"
      ],
      "metadata": {
        "colab": {
          "base_uri": "https://localhost:8080/"
        },
        "id": "gMXq6h-hiwY0",
        "outputId": "4cc4edfb-9b28-4391-a536-37c0c1874007"
      },
      "id": "gMXq6h-hiwY0",
      "execution_count": null,
      "outputs": [
        {
          "output_type": "stream",
          "name": "stdout",
          "text": [
            "      +-------------+      \n",
            "      | PromptInput |      \n",
            "      +-------------+      \n",
            "             *             \n",
            "             *             \n",
            "             *             \n",
            "    +----------------+     \n",
            "    | PromptTemplate |     \n",
            "    +----------------+     \n",
            "             *             \n",
            "             *             \n",
            "             *             \n",
            "+------------------------+ \n",
            "| ChatGoogleGenerativeAI | \n",
            "+------------------------+ \n",
            "             *             \n",
            "             *             \n",
            "             *             \n",
            "    +-----------------+    \n",
            "    | StrOutputParser |    \n",
            "    +-----------------+    \n",
            "             *             \n",
            "             *             \n",
            "             *             \n",
            "+-----------------------+  \n",
            "| StrOutputParserOutput |  \n",
            "+-----------------------+  \n",
            "             *             \n",
            "             *             \n",
            "             *             \n",
            "    +----------------+     \n",
            "    | PromptTemplate |     \n",
            "    +----------------+     \n",
            "             *             \n",
            "             *             \n",
            "             *             \n",
            "+------------------------+ \n",
            "| ChatGoogleGenerativeAI | \n",
            "+------------------------+ \n",
            "             *             \n",
            "             *             \n",
            "             *             \n",
            "    +-----------------+    \n",
            "    | StrOutputParser |    \n",
            "    +-----------------+    \n",
            "             *             \n",
            "             *             \n",
            "             *             \n",
            "+-----------------------+  \n",
            "| StrOutputParserOutput |  \n",
            "+-----------------------+  \n"
          ]
        }
      ]
    },
    {
      "cell_type": "markdown",
      "source": [
        "##Step #3: Parallel Chain"
      ],
      "metadata": {
        "id": "GypWOa8W1Gfp"
      },
      "id": "GypWOa8W1Gfp"
    },
    {
      "cell_type": "code",
      "source": [
        "prompt1 = PromptTemplate(\n",
        "    template='Generate short and simple notes from the following text \\n {text}',\n",
        "    input_variables=['text']\n",
        ")\n",
        "\n",
        "prompt2 = PromptTemplate(\n",
        "    template='Generate 5 short question answers from the following text \\n {text}',\n",
        "    input_variables=['text']\n",
        ")\n",
        "\n",
        "prompt3 = PromptTemplate(\n",
        "    template='Merge the provided notes and quiz into a single document \\n notes -> {notes} and quiz -> {quiz}',\n",
        "    input_variables=['notes', 'quiz']\n",
        ")"
      ],
      "metadata": {
        "id": "kF4NyHbY0cSm"
      },
      "id": "kF4NyHbY0cSm",
      "execution_count": 4,
      "outputs": []
    },
    {
      "cell_type": "code",
      "source": [
        "parser = StrOutputParser()"
      ],
      "metadata": {
        "id": "wFfYIphf-zwF"
      },
      "id": "wFfYIphf-zwF",
      "execution_count": 5,
      "outputs": []
    },
    {
      "cell_type": "code",
      "source": [
        "parallel_chain = RunnableParallel({\n",
        "    \"notes\":prompt1 | model | parser,\n",
        "    \"quiz\":prompt2 | model | parser\n",
        "})\n",
        "\n",
        "merge_chain = prompt3 | model | parser\n",
        "chain = parallel_chain | merge_chain"
      ],
      "metadata": {
        "id": "eaPfW35XYLPe"
      },
      "id": "eaPfW35XYLPe",
      "execution_count": 7,
      "outputs": []
    },
    {
      "cell_type": "code",
      "source": [
        "chain.get_graph().print_ascii()"
      ],
      "metadata": {
        "id": "MrGUKwW1C-hk",
        "outputId": "3b99f566-0fcc-4ee1-d4d7-7d8c58daaf33",
        "colab": {
          "base_uri": "https://localhost:8080/"
        }
      },
      "id": "MrGUKwW1C-hk",
      "execution_count": 15,
      "outputs": [
        {
          "output_type": "stream",
          "name": "stdout",
          "text": [
            "                    +---------------------------+                      \n",
            "                    | Parallel<notes,quiz>Input |                      \n",
            "                    +---------------------------+                      \n",
            "                       ***                   ***                       \n",
            "                   ****                         ****                   \n",
            "                 **                                 **                 \n",
            "    +----------------+                          +----------------+     \n",
            "    | PromptTemplate |                          | PromptTemplate |     \n",
            "    +----------------+                          +----------------+     \n",
            "             *                                           *             \n",
            "             *                                           *             \n",
            "             *                                           *             \n",
            "+------------------------+                  +------------------------+ \n",
            "| ChatGoogleGenerativeAI |                  | ChatGoogleGenerativeAI | \n",
            "+------------------------+                  +------------------------+ \n",
            "             *                                           *             \n",
            "             *                                           *             \n",
            "             *                                           *             \n",
            "    +-----------------+                         +-----------------+    \n",
            "    | StrOutputParser |                         | StrOutputParser |    \n",
            "    +-----------------+                         +-----------------+    \n",
            "                       ***                   ***                       \n",
            "                          ****           ****                          \n",
            "                              **       **                              \n",
            "                    +----------------------------+                     \n",
            "                    | Parallel<notes,quiz>Output |                     \n",
            "                    +----------------------------+                     \n",
            "                                   *                                   \n",
            "                                   *                                   \n",
            "                                   *                                   \n",
            "                          +----------------+                           \n",
            "                          | PromptTemplate |                           \n",
            "                          +----------------+                           \n",
            "                                   *                                   \n",
            "                                   *                                   \n",
            "                                   *                                   \n",
            "                      +------------------------+                       \n",
            "                      | ChatGoogleGenerativeAI |                       \n",
            "                      +------------------------+                       \n",
            "                                   *                                   \n",
            "                                   *                                   \n",
            "                                   *                                   \n",
            "                          +-----------------+                          \n",
            "                          | StrOutputParser |                          \n",
            "                          +-----------------+                          \n",
            "                                   *                                   \n",
            "                                   *                                   \n",
            "                                   *                                   \n",
            "                      +-----------------------+                        \n",
            "                      | StrOutputParserOutput |                        \n",
            "                      +-----------------------+                        \n"
          ]
        }
      ]
    },
    {
      "cell_type": "code",
      "source": [
        "text = \"\"\"\n",
        "Support vector machines (SVMs) are a set of supervised learning methods used for classification, regression and outliers detection.\n",
        "\n",
        "The advantages of support vector machines are:\n",
        "\n",
        "Effective in high dimensional spaces.\n",
        "\n",
        "Still effective in cases where number of dimensions is greater than the number of samples.\n",
        "\n",
        "Uses a subset of training points in the decision function (called support vectors), so it is also memory efficient.\n",
        "\n",
        "Versatile: different Kernel functions can be specified for the decision function. Common kernels are provided, but it is also possible to specify custom kernels.\n",
        "\n",
        "The disadvantages of support vector machines include:\n",
        "\n",
        "If the number of features is much greater than the number of samples, avoid over-fitting in choosing Kernel functions and regularization term is crucial.\n",
        "\n",
        "SVMs do not directly provide probability estimates, these are calculated using an expensive five-fold cross-validation (see Scores and probabilities, below).\n",
        "\n",
        "The support vector machines in scikit-learn support both dense (numpy.ndarray and convertible to that by numpy.asarray) and sparse (any scipy.sparse) sample vectors as input. However, to use an SVM to make predictions for sparse data, it must have been fit on such data. For optimal performance, use C-ordered numpy.ndarray (dense) or scipy.sparse.csr_matrix (sparse) with dtype=float64.\n",
        "\"\"\""
      ],
      "metadata": {
        "id": "EsqQnjI2gO3V"
      },
      "id": "EsqQnjI2gO3V",
      "execution_count": 8,
      "outputs": []
    },
    {
      "cell_type": "code",
      "source": [
        "result = chain.invoke({\"text\": text})"
      ],
      "metadata": {
        "id": "wQmGl8Eu5ZEa"
      },
      "id": "wQmGl8Eu5ZEa",
      "execution_count": 9,
      "outputs": []
    },
    {
      "cell_type": "code",
      "source": [
        "print(result)"
      ],
      "metadata": {
        "colab": {
          "base_uri": "https://localhost:8080/"
        },
        "id": "YqZih9DB5opQ",
        "outputId": "8dc7033a-19bf-41cd-e50a-69b54fab74a5"
      },
      "id": "YqZih9DB5opQ",
      "execution_count": 10,
      "outputs": [
        {
          "output_type": "stream",
          "name": "stdout",
          "text": [
            "Okay, here's the merged document containing the SVM notes and the quiz questions with answers:\n",
            "\n",
            "**Support Vector Machines (SVMs)**\n",
            "\n",
            "**Definition:** Supervised learning methods for classification, regression, and outlier detection.\n",
            "\n",
            "**Advantages:**\n",
            "\n",
            "*   Effective in high dimensional spaces.\n",
            "*   Works well when dimensions > samples.\n",
            "*   Memory efficient (uses support vectors).\n",
            "*   Versatile (various kernel functions, including custom ones).\n",
            "\n",
            "**Disadvantages:**\n",
            "\n",
            "*   Overfitting risk if features >> samples (kernel/regularization tuning crucial).\n",
            "*   Probability estimates are computationally expensive.\n",
            "\n",
            "**Implementation Notes (scikit-learn):**\n",
            "\n",
            "*   Supports dense (NumPy arrays) and sparse (SciPy sparse matrices) data.\n",
            "*   Fit model on sparse data to predict sparse data.\n",
            "*   Optimal performance: C-ordered NumPy arrays (dense) or CSR sparse matrices (sparse) with `dtype=float64`.\n",
            "\n",
            "**Quiz: Support Vector Machines**\n",
            "\n",
            "1.  **Question:** What are SVMs used for?\n",
            "    **Answer:** Classification, regression, and outliers detection.\n",
            "\n",
            "2.  **Question:** What is an advantage of SVMs in high dimensional spaces?\n",
            "    **Answer:** They are effective.\n",
            "\n",
            "3.  **Question:** What makes SVMs memory efficient?\n",
            "    **Answer:** They use a subset of training points called support vectors.\n",
            "\n",
            "4.  **Question:** What is a disadvantage of SVMs when the number of features is much greater than the number of samples?\n",
            "    **Answer:** Avoiding over-fitting in choosing Kernel functions and regularization term is crucial.\n",
            "\n",
            "5.  **Question:** What type of sample vectors do support vector machines in scikit-learn support?\n",
            "    **Answer:** Dense and sparse sample vectors.\n"
          ]
        }
      ]
    },
    {
      "cell_type": "markdown",
      "source": [
        "##Step #4: Conditional Chain"
      ],
      "metadata": {
        "id": "fmAZCKcP5x9W"
      },
      "id": "fmAZCKcP5x9W"
    },
    {
      "cell_type": "code",
      "source": [
        "\n",
        "class Feedback(BaseModel):\n",
        "    sentiment: Literal[\"positive\", \"negetive\"] = Field(description=\"Give the sentiment of the feedback\")\n",
        "\n",
        "pydantic_parser = PydanticOutputParser(pydantic_object=Feedback)\n",
        "str_parser = StrOutputParser()"
      ],
      "metadata": {
        "id": "z7N1M40o5rY3"
      },
      "id": "z7N1M40o5rY3",
      "execution_count": 14,
      "outputs": []
    },
    {
      "cell_type": "code",
      "source": [
        "prompt1 = PromptTemplate(\n",
        "    template=\"Classify the sentiment of the following feedback text into postive or negative \\n {feedback} \\n {format_instruction}\",\n",
        "    input_variables=['feedback'],\n",
        "    partial_variables={'format_instruction':pydantic_parser.get_format_instructions()}\n",
        ")\n",
        "\n",
        "classifier_chain = prompt1 | model | pydantic_parser"
      ],
      "metadata": {
        "id": "P4vnldsV6gJP"
      },
      "id": "P4vnldsV6gJP",
      "execution_count": 16,
      "outputs": []
    },
    {
      "cell_type": "code",
      "source": [
        "prompt2 = PromptTemplate(\n",
        "    template='Write an appropriate response to this positive feedback \\n {feedback}',\n",
        "    input_variables=['feedback']\n",
        ")\n",
        "\n",
        "prompt3 = PromptTemplate(\n",
        "    template='Write an appropriate response to this negative feedback \\n {feedback}',\n",
        "    input_variables=['feedback']\n",
        ")\n",
        "\n",
        "branch_chain = RunnableBranch(\n",
        "    (lambda x: x.sentiment == 'positive', prompt2 | model | str_parser),\n",
        "    (lambda x: x.sentiment == 'negetive', prompt3 | model | str_parser),\n",
        "    RunnableLambda(lambda x: \"could not find sentiment\")\n",
        ")\n",
        "\n",
        "chain = classifier_chain | branch_chain"
      ],
      "metadata": {
        "id": "g9PYGQ917A7x"
      },
      "id": "g9PYGQ917A7x",
      "execution_count": 18,
      "outputs": []
    },
    {
      "cell_type": "code",
      "source": [
        "chain.get_graph().print_ascii()"
      ],
      "metadata": {
        "id": "N1KbJ4CvEGE0",
        "outputId": "6d6d92c6-9aaa-45f9-f4a6-876acc1d4c21",
        "colab": {
          "base_uri": "https://localhost:8080/"
        }
      },
      "id": "N1KbJ4CvEGE0",
      "execution_count": 19,
      "outputs": [
        {
          "output_type": "stream",
          "name": "stdout",
          "text": [
            "      +-------------+      \n",
            "      | PromptInput |      \n",
            "      +-------------+      \n",
            "             *             \n",
            "             *             \n",
            "             *             \n",
            "    +----------------+     \n",
            "    | PromptTemplate |     \n",
            "    +----------------+     \n",
            "             *             \n",
            "             *             \n",
            "             *             \n",
            "+------------------------+ \n",
            "| ChatGoogleGenerativeAI | \n",
            "+------------------------+ \n",
            "             *             \n",
            "             *             \n",
            "             *             \n",
            " +----------------------+  \n",
            " | PydanticOutputParser |  \n",
            " +----------------------+  \n",
            "             *             \n",
            "             *             \n",
            "             *             \n",
            "        +--------+         \n",
            "        | Branch |         \n",
            "        +--------+         \n",
            "             *             \n",
            "             *             \n",
            "             *             \n",
            "     +--------------+      \n",
            "     | BranchOutput |      \n",
            "     +--------------+      \n"
          ]
        }
      ]
    },
    {
      "cell_type": "code",
      "source": [
        "print(chain.invoke({'feedback': 'This is a beautiful phone'}))"
      ],
      "metadata": {
        "id": "wr8itRA3EZzE",
        "outputId": "3e555740-4e7c-42d8-f97c-2a77fe69b35d",
        "colab": {
          "base_uri": "https://localhost:8080/"
        }
      },
      "id": "wr8itRA3EZzE",
      "execution_count": 20,
      "outputs": [
        {
          "output_type": "stream",
          "name": "stdout",
          "text": [
            "Okay, to respond to positive feedback, I need a little more context!  To give you the *best* response, tell me:\n",
            "\n",
            "*   **What was the feedback about?** (e.g., a product, a service, a presentation, a piece of writing, a performance, etc.)\n",
            "*   **Who is the feedback from?** (e.g., a customer, a boss, a colleague, a friend, the general public)\n",
            "*   **What was the specific positive comment?** (Even a short summary helps!)\n",
            "\n",
            "However, here are a few general responses you can adapt, depending on the situation:\n",
            "\n",
            "**General Responses:**\n",
            "\n",
            "*   \"Thank you so much for your positive feedback! I really appreciate you taking the time to share your thoughts.\"\n",
            "*   \"I'm so glad to hear you had a positive experience. We really value your feedback.\"\n",
            "*   \"Thank you! It's great to know that you were happy with [the product/service/etc.].\"\n",
            "*   \"I'm delighted to hear that! We strive to [mention what you strive for, e.g., provide excellent service, create high-quality products, etc.].\"\n",
            "\n",
            "**More Specific Responses (Examples - adapt to your situation):**\n",
            "\n",
            "*   **If the feedback was about a product:** \"Thank you! We're thrilled you're enjoying the [product name]. We put a lot of effort into [mention a key feature or benefit].\"\n",
            "*   **If the feedback was about a service:** \"Thank you for your kind words! We're committed to providing excellent service, and it's rewarding to know we're meeting your expectations.\"\n",
            "*   **If the feedback was about a presentation:** \"Thank you! I'm glad you found the presentation informative and engaging. I appreciate you letting me know.\"\n",
            "*   **If the feedback was from a boss/colleague:** \"Thank you! I appreciate the feedback. I'm always looking for ways to improve, so it's helpful to know what's working well.\"\n",
            "\n",
            "**Key things to include in your response:**\n",
            "\n",
            "*   **Express gratitude:** Say \"thank you.\"\n",
            "*   **Acknowledge the feedback:** Show that you've read and understood the comment.\n",
            "*   **(Optional) Briefly explain why you're happy to receive the feedback:** This adds a personal touch.\n",
            "*   **(Optional) If appropriate, mention future improvements or continued efforts:** This shows you're committed to maintaining or improving quality.\n",
            "\n",
            "**Example using the above information:**\n",
            "\n",
            "Let's say the feedback was:\n",
            "\n",
            "*   **About:** A customer service interaction\n",
            "*   **From:** A customer\n",
            "*   **Specific comment:** \"The customer service representative was extremely helpful and resolved my issue quickly!\"\n",
            "\n",
            "A good response would be:\n",
            "\n",
            "\"Thank you so much for your positive feedback! I'm so glad to hear that our customer service representative was able to resolve your issue quickly and efficiently. We strive to provide excellent customer service, and it's rewarding to know we're meeting your expectations. We'll be sure to pass your kind words along to the representative.\"\n",
            "\n",
            "**Give me more details, and I can give you an even better response!**\n"
          ]
        }
      ]
    },
    {
      "cell_type": "code",
      "source": [
        "print(chain.invoke({'feedback': 'This is a very bad phone'}))"
      ],
      "metadata": {
        "id": "9gdOdasfEbxy",
        "outputId": "cbdf4db0-386c-4039-9710-afabf10acbf1",
        "colab": {
          "base_uri": "https://localhost:8080/"
        }
      },
      "id": "9gdOdasfEbxy",
      "execution_count": 21,
      "outputs": [
        {
          "output_type": "stream",
          "name": "stdout",
          "text": [
            "Okay, to give you the best possible response, I need a little more context.  Please tell me:\n",
            "\n",
            "1.  **What is the negative feedback about?** (e.g., a product, a service, a website, a piece of writing, a performance, etc.)\n",
            "2.  **What is the specific feedback?** (Ideally, provide the exact text of the feedback. If you can't, summarize the main points.)\n",
            "3.  **What is your role in relation to the feedback?** (e.g., are you the business owner, a customer service representative, the creator of the product, etc.)\n",
            "\n",
            "However, here are a few general response templates you can adapt, depending on the situation:\n",
            "\n",
            "**Template 1:  Acknowledging and Promising Action (Good for most situations)**\n",
            "\n",
            "> \"Thank you for your feedback. We appreciate you taking the time to share your experience. We're sorry to hear that you [mention the specific issue]. We're taking your comments seriously and will be [explain what action you'll take, e.g., investigating the issue, reviewing our processes, etc.]. We value your business and hope to have the opportunity to provide you with a better experience in the future.\"\n",
            "\n",
            "**Template 2:  Acknowledging and Apologizing (Good when you made a mistake)**\n",
            "\n",
            "> \"We're very sorry to hear that you had a negative experience. We sincerely apologize that [mention the specific issue]. This is not the standard of service/product we aim to provide. We are [explain what you're doing to rectify the situation or prevent it from happening again]. Thank you for bringing this to our attention.\"\n",
            "\n",
            "**Template 3:  Seeking Clarification (Good when you need more information)**\n",
            "\n",
            "> \"Thank you for your feedback. We appreciate you bringing this to our attention. We'd like to understand more about [mention the specific issue]. Could you please provide more details about [ask specific questions]? This will help us investigate and improve.\"\n",
            "\n",
            "**Template 4:  Offering a Solution (Good when you can fix the problem immediately)**\n",
            "\n",
            "> \"We're sorry to hear you're experiencing [mention the specific issue]. To resolve this, please try [suggest a solution]. If that doesn't work, please contact us at [provide contact information] and we'll be happy to assist you further.\"\n",
            "\n",
            "**Template 5:  Polite Disagreement (Use sparingly and carefully, only when you believe the feedback is inaccurate or unfair)**\n",
            "\n",
            "> \"Thank you for your feedback. We appreciate you taking the time to share your thoughts. While we understand your perspective, we [explain your position and why you disagree, providing evidence or reasoning]. We are always striving to improve, and we value your input.\"\n",
            "\n",
            "**Important Considerations for ALL Responses:**\n",
            "\n",
            "*   **Be prompt:** Respond as quickly as possible.\n",
            "*   **Be professional:** Use a polite and respectful tone.\n",
            "*   **Be specific:** Address the specific issues raised in the feedback.\n",
            "*   **Be empathetic:** Show that you understand the customer's frustration.\n",
            "*   **Be genuine:** Don't just give a canned response.\n",
            "*   **Proofread:** Ensure your response is free of errors.\n",
            "*   **Take it offline if necessary:** If the issue is complex or requires a lot of back-and-forth, offer to continue the conversation via phone or email.\n",
            "\n",
            "**Example (Let's say the feedback is: \"The pizza I ordered was cold and took over an hour to arrive!\")**\n",
            "\n",
            "Using Template 2:\n",
            "\n",
            "> \"We're so sorry to hear that your pizza arrived cold and took over an hour. We sincerely apologize for that. That's not the experience we want our customers to have. We're investigating what caused the delay and the temperature issue with our delivery process. We'd like to offer you a discount on your next order. Please contact us at [phone number or email address] so we can arrange that for you. Thank you for bringing this to our attention.\"\n",
            "\n",
            "**Once you provide me with the specific feedback and your role, I can tailor a much more effective response for you.**\n"
          ]
        }
      ]
    }
  ],
  "metadata": {
    "colab": {
      "provenance": [],
      "toc_visible": true,
      "include_colab_link": true
    },
    "kernelspec": {
      "display_name": "Python 3 (ipykernel)",
      "language": "python",
      "name": "python3"
    },
    "language_info": {
      "codemirror_mode": {
        "name": "ipython",
        "version": 3
      },
      "file_extension": ".py",
      "mimetype": "text/x-python",
      "name": "python",
      "nbconvert_exporter": "python",
      "pygments_lexer": "ipython3",
      "version": "3.10.14"
    }
  },
  "nbformat": 4,
  "nbformat_minor": 5
}