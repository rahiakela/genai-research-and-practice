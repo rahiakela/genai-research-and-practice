{
  "cells": [
    {
      "cell_type": "markdown",
      "metadata": {
        "id": "view-in-github",
        "colab_type": "text"
      },
      "source": [
        "<a href=\"https://colab.research.google.com/github/rahiakela/genai-research-and-practice/blob/main/campusx-langchain/01_output_parser.ipynb\" target=\"_parent\"><img src=\"https://colab.research.google.com/assets/colab-badge.svg\" alt=\"Open In Colab\"/></a>"
      ]
    },
    {
      "cell_type": "markdown",
      "id": "ad9b4b85-9d17-468c-b244-73a1c5191e3e",
      "metadata": {
        "id": "ad9b4b85-9d17-468c-b244-73a1c5191e3e"
      },
      "source": [
        "## Setup"
      ]
    },
    {
      "cell_type": "markdown",
      "source": [
        "**Reference**\n",
        "\n",
        "https://python.langchain.com/docs/integrations/chat/google_generative_ai/\n",
        "\n",
        "https://python.langchain.com/docs/integrations/text_embedding/google_generative_ai/"
      ],
      "metadata": {
        "id": "clHIpoVJtbDi"
      },
      "id": "clHIpoVJtbDi"
    },
    {
      "cell_type": "code",
      "source": [
        "%%capture\n",
        "\n",
        "%pip install -qU langchain-google-genai\n",
        "%pip install langchain langchain-community"
      ],
      "metadata": {
        "id": "2Y-_3oA9r0Ye"
      },
      "id": "2Y-_3oA9r0Ye",
      "execution_count": 1,
      "outputs": []
    },
    {
      "cell_type": "code",
      "source": [
        "import os\n",
        "import json\n",
        "\n",
        "from google.colab import userdata\n",
        "\n",
        "from langchain_google_genai import ChatGoogleGenerativeAI\n",
        "\n",
        "from langchain_core.prompts import PromptTemplate\n",
        "from langchain_core.output_parsers import StrOutputParser, PydanticOutputParser, JsonOutputParser\n",
        "\n",
        "from langchain.output_parsers import StructuredOutputParser, ResponseSchema\n",
        "\n",
        "from pydantic import BaseModel, Field\n",
        "\n",
        "import matplotlib.pyplot as plt\n",
        "from IPython.display import Image, display\n",
        "%matplotlib inline"
      ],
      "metadata": {
        "id": "YNqFuITeWIoh"
      },
      "id": "YNqFuITeWIoh",
      "execution_count": 32,
      "outputs": []
    },
    {
      "cell_type": "code",
      "source": [
        "model = ChatGoogleGenerativeAI(\n",
        "    model=\"gemini-2.0-flash\",\n",
        "    temperature=0,\n",
        "    max_tokens=None,\n",
        "    timeout=None,\n",
        "    max_retries=2,\n",
        "    api_key=userdata.get('GOOGLE_API_KEY')\n",
        ")"
      ],
      "metadata": {
        "id": "73Kz9XvXsz0k"
      },
      "id": "73Kz9XvXsz0k",
      "execution_count": 3,
      "outputs": []
    },
    {
      "cell_type": "markdown",
      "source": [
        "## Step #1: Naive Approach"
      ],
      "metadata": {
        "id": "MHBqpS6NoL6j"
      },
      "id": "MHBqpS6NoL6j"
    },
    {
      "cell_type": "code",
      "source": [
        "# 1st prompt -> detailed report\n",
        "template1 = PromptTemplate(\n",
        "    template='Write a detailed report on {topic}',\n",
        "    input_variables=['topic']\n",
        ")\n",
        "\n",
        "# 2nd prompt -> summary\n",
        "template2 = PromptTemplate(\n",
        "    template='Write a 5 line summary on the following text. /n {text}',\n",
        "    input_variables=['text']\n",
        ")"
      ],
      "metadata": {
        "id": "WLabwgzEoYcy"
      },
      "id": "WLabwgzEoYcy",
      "execution_count": 5,
      "outputs": []
    },
    {
      "cell_type": "code",
      "source": [
        "prompt1 = template1.invoke({\"topic\":\"black hole\"})\n",
        "result = model.invoke(prompt1)\n",
        "\n",
        "prompt2 = template2.invoke({\"text\":result.content})\n",
        "result2 = model.invoke(prompt2)"
      ],
      "metadata": {
        "id": "DATRjqEKo5Kg"
      },
      "id": "DATRjqEKo5Kg",
      "execution_count": 6,
      "outputs": []
    },
    {
      "cell_type": "code",
      "source": [
        "print(result2.content)"
      ],
      "metadata": {
        "id": "K4tvdnDjnnyH",
        "colab": {
          "base_uri": "https://localhost:8080/"
        },
        "outputId": "13d97254-54e5-4674-cd2d-63ea28544548"
      },
      "id": "K4tvdnDjnnyH",
      "execution_count": 7,
      "outputs": [
        {
          "output_type": "stream",
          "name": "stdout",
          "text": [
            "Black holes are regions of extreme gravity where nothing, not even light, can escape. They form primarily from the collapse of massive stars or, hypothetically, directly in the early universe.  Key features include a singularity, an event horizon, and often an accretion disk. Black holes are classified by mass, ranging from stellar-mass to supermassive, and their presence is detected through gravitational lensing, X-ray emissions, stellar orbits, and gravitational waves. They significantly impact galaxy evolution, provide a testing ground for general relativity, and are potential dark matter candidates.  Ongoing research aims to understand their formation, the nature of singularities, and their role in the cosmos.\n"
          ]
        }
      ]
    },
    {
      "cell_type": "markdown",
      "source": [
        "##Step #2: String Output Parser"
      ],
      "metadata": {
        "id": "Cg6H3FSbuJfj"
      },
      "id": "Cg6H3FSbuJfj"
    },
    {
      "cell_type": "code",
      "source": [
        "parser = StrOutputParser()\n",
        "\n",
        "chain = template1 | model | parser | template2 | model | parser\n",
        "\n",
        "result = chain.invoke({\"topic\":\"black hole\"})"
      ],
      "metadata": {
        "id": "Y5nJL6iww3yO"
      },
      "id": "Y5nJL6iww3yO",
      "execution_count": 9,
      "outputs": []
    },
    {
      "cell_type": "code",
      "source": [
        "print(result)"
      ],
      "metadata": {
        "colab": {
          "base_uri": "https://localhost:8080/"
        },
        "id": "OPR-jYTK0vdc",
        "outputId": "8a9797a5-22dc-4df9-f490-e02a12977709"
      },
      "id": "OPR-jYTK0vdc",
      "execution_count": 11,
      "outputs": [
        {
          "output_type": "stream",
          "name": "stdout",
          "text": [
            "Black holes are regions of extreme gravity where nothing escapes, formed primarily from stellar collapse or direct gas cloud collapse. They possess a singularity, an event horizon, and potentially an ergosphere and accretion disk. Classified by mass (stellar, intermediate, supermassive, primordial), their presence is detected through gravitational lensing, X-ray emissions, stellar orbits, and gravitational waves. Black holes influence galaxy evolution, power active galactic nuclei, and offer a testing ground for general relativity. Unresolved questions remain about their formation, singularities, and role in galaxy evolution, driving future research in observational techniques and theoretical modeling.\n"
          ]
        }
      ]
    },
    {
      "cell_type": "markdown",
      "source": [
        "##Step #3: Structured Output Parser"
      ],
      "metadata": {
        "id": "GypWOa8W1Gfp"
      },
      "id": "GypWOa8W1Gfp"
    },
    {
      "cell_type": "code",
      "source": [
        "schema = [\n",
        "    ResponseSchema(name='fact_1', description='Fact 1 about the topic'),\n",
        "    ResponseSchema(name='fact_2', description='Fact 2 about the topic'),\n",
        "    ResponseSchema(name='fact_3', description='Fact 3 about the topic'),\n",
        "]\n",
        "\n",
        "parser = StructuredOutputParser.from_response_schemas(schema)\n",
        "\n",
        "template = PromptTemplate(\n",
        "    template='Give 3 fact about {topic} \\n {format_instruction}',\n",
        "    input_variables=['topic'],\n",
        "    partial_variables={'format_instruction':parser.get_format_instructions()}\n",
        ")"
      ],
      "metadata": {
        "id": "kF4NyHbY0cSm"
      },
      "id": "kF4NyHbY0cSm",
      "execution_count": 14,
      "outputs": []
    },
    {
      "cell_type": "code",
      "source": [
        "chain = template | model | parser\n",
        "\n",
        "result = chain.invoke({\"topic\":\"black hole\"})"
      ],
      "metadata": {
        "id": "eaPfW35XYLPe"
      },
      "id": "eaPfW35XYLPe",
      "execution_count": 15,
      "outputs": []
    },
    {
      "cell_type": "code",
      "source": [
        "print(result[\"fact_1\"])"
      ],
      "metadata": {
        "id": "EsqQnjI2gO3V",
        "outputId": "5477032b-cf16-4790-8294-57b72925ca90",
        "colab": {
          "base_uri": "https://localhost:8080/"
        }
      },
      "id": "EsqQnjI2gO3V",
      "execution_count": 17,
      "outputs": [
        {
          "output_type": "stream",
          "name": "stdout",
          "text": [
            "Black holes are not cosmic vacuum cleaners. While they have immense gravity, you would need to get relatively close to one to be pulled in. If our Sun were replaced with a black hole of the same mass, the Earth would continue orbiting at the same distance, though it would get very cold!\n"
          ]
        }
      ]
    },
    {
      "cell_type": "code",
      "source": [
        "print(result[\"fact_2\"])"
      ],
      "metadata": {
        "colab": {
          "base_uri": "https://localhost:8080/"
        },
        "id": "wQmGl8Eu5ZEa",
        "outputId": "c5c0a4f2-3902-4a21-b180-a45b4cab4514"
      },
      "id": "wQmGl8Eu5ZEa",
      "execution_count": 18,
      "outputs": [
        {
          "output_type": "stream",
          "name": "stdout",
          "text": [
            "Black holes come in different sizes. Stellar mass black holes form from the collapse of massive stars and are typically a few to tens of times the mass of our Sun. Supermassive black holes reside at the centers of most galaxies and can be millions or even billions of times the mass of the Sun.\n"
          ]
        }
      ]
    },
    {
      "cell_type": "code",
      "source": [
        "print(result[\"fact_3\"])"
      ],
      "metadata": {
        "colab": {
          "base_uri": "https://localhost:8080/"
        },
        "id": "YqZih9DB5opQ",
        "outputId": "c41f702c-c8a1-4279-a050-30f07f0bdf55"
      },
      "id": "YqZih9DB5opQ",
      "execution_count": 19,
      "outputs": [
        {
          "output_type": "stream",
          "name": "stdout",
          "text": [
            "Nothing, not even light, can escape a black hole's event horizon. This boundary marks the point of no return; once something crosses it, it's trapped forever. This is why black holes appear 'black' – no light can reflect off of them or escape their gravity.\n"
          ]
        }
      ]
    },
    {
      "cell_type": "markdown",
      "source": [
        "##Step #4: Pydantic Output Parser"
      ],
      "metadata": {
        "id": "fmAZCKcP5x9W"
      },
      "id": "fmAZCKcP5x9W"
    },
    {
      "cell_type": "code",
      "source": [
        "class Person(BaseModel):\n",
        "    name: str = Field(description='Name of the person')\n",
        "    age: int = Field(gt=18, description='Age of the person')\n",
        "    city: str = Field(description='Name of the city the person belongs to')\n",
        "\n",
        "parser = PydanticOutputParser(pydantic_object=Person)"
      ],
      "metadata": {
        "id": "z7N1M40o5rY3"
      },
      "id": "z7N1M40o5rY3",
      "execution_count": 24,
      "outputs": []
    },
    {
      "cell_type": "code",
      "source": [
        "template = PromptTemplate(\n",
        "    template=\"Generate the name, age and city of a fictional {place} person \\n {format_instruction}\",\n",
        "    input_variables=['place'],\n",
        "    partial_variables={'format_instruction':parser.get_format_instructions()}\n",
        ")\n",
        "\n",
        "chain = template | model | parser\n",
        "final_result = chain.invoke({'place':'sri lankan'})"
      ],
      "metadata": {
        "id": "P4vnldsV6gJP"
      },
      "id": "P4vnldsV6gJP",
      "execution_count": 26,
      "outputs": []
    },
    {
      "cell_type": "code",
      "source": [
        "print(final_result)"
      ],
      "metadata": {
        "colab": {
          "base_uri": "https://localhost:8080/"
        },
        "id": "g9PYGQ917A7x",
        "outputId": "3a109e42-4766-495f-ba7b-ce8b7cec750d"
      },
      "id": "g9PYGQ917A7x",
      "execution_count": 27,
      "outputs": [
        {
          "output_type": "stream",
          "name": "stdout",
          "text": [
            "name='Priya Silva' age=32 city='Colombo'\n"
          ]
        }
      ]
    },
    {
      "cell_type": "markdown",
      "source": [
        "##Step #5: JSON Output Parser"
      ],
      "metadata": {
        "id": "RLkXOr6u75zV"
      },
      "id": "RLkXOr6u75zV"
    },
    {
      "cell_type": "code",
      "source": [
        "parser = JsonOutputParser()\n",
        "\n",
        "template = PromptTemplate(\n",
        "    template='Give me 5 facts about {topic} \\n {format_instruction}',\n",
        "    input_variables=['topic'],\n",
        "    partial_variables={'format_instruction': parser.get_format_instructions()}\n",
        ")\n",
        "\n",
        "chain = template | model | parser"
      ],
      "metadata": {
        "id": "XZ44HhVD7nff"
      },
      "id": "XZ44HhVD7nff",
      "execution_count": 29,
      "outputs": []
    },
    {
      "cell_type": "code",
      "source": [
        "result = chain.invoke({'topic':'black hole'})"
      ],
      "metadata": {
        "id": "3nBmA-Wr8DDF"
      },
      "id": "3nBmA-Wr8DDF",
      "execution_count": 30,
      "outputs": []
    },
    {
      "cell_type": "code",
      "source": [
        "print(result)"
      ],
      "metadata": {
        "colab": {
          "base_uri": "https://localhost:8080/"
        },
        "id": "q9mPSAtF8Gi8",
        "outputId": "2bb38c85-ee74-4dea-faf4-19cc1a9dcaef"
      },
      "id": "q9mPSAtF8Gi8",
      "execution_count": 31,
      "outputs": [
        {
          "output_type": "stream",
          "name": "stdout",
          "text": [
            "{'black_hole_facts': [{'fact': 'Black holes are regions in spacetime where gravity is so strong that nothing, not even light, can escape.'}, {'fact': \"The boundary beyond which escape is impossible is called the event horizon. It's not a physical surface, but a point of no return.\"}, {'fact': 'Black holes are formed from the remnants of massive stars that collapse under their own gravity at the end of their life cycle. Supermassive black holes, millions or billions of times the mass of the Sun, reside at the centers of most galaxies.'}, {'fact': \"While we can't directly 'see' a black hole, we can detect them by observing their effects on surrounding matter, such as the accretion disk of superheated gas that forms around them, or the gravitational lensing of light from objects behind them.\"}, {'fact': \"According to Einstein's theory of general relativity, at the center of a black hole is a singularity, a point of infinite density where the laws of physics as we know them break down.\"}]}\n"
          ]
        }
      ]
    },
    {
      "cell_type": "code",
      "source": [
        "print(json.dumps(result, indent=2))"
      ],
      "metadata": {
        "colab": {
          "base_uri": "https://localhost:8080/"
        },
        "id": "aU86JFap8l3E",
        "outputId": "34acd8a5-3dcf-49da-cd0a-784311710dc3"
      },
      "id": "aU86JFap8l3E",
      "execution_count": 35,
      "outputs": [
        {
          "output_type": "stream",
          "name": "stdout",
          "text": [
            "{\n",
            "  \"black_hole_facts\": [\n",
            "    {\n",
            "      \"fact\": \"Black holes are regions in spacetime where gravity is so strong that nothing, not even light, can escape.\"\n",
            "    },\n",
            "    {\n",
            "      \"fact\": \"The boundary beyond which escape is impossible is called the event horizon. It's not a physical surface, but a point of no return.\"\n",
            "    },\n",
            "    {\n",
            "      \"fact\": \"Black holes are formed from the remnants of massive stars that collapse under their own gravity at the end of their life cycle. Supermassive black holes, millions or billions of times the mass of the Sun, reside at the centers of most galaxies.\"\n",
            "    },\n",
            "    {\n",
            "      \"fact\": \"While we can't directly 'see' a black hole, we can detect them by observing their effects on surrounding matter, such as the accretion disk of superheated gas that forms around them, or the gravitational lensing of light from objects behind them.\"\n",
            "    },\n",
            "    {\n",
            "      \"fact\": \"According to Einstein's theory of general relativity, at the center of a black hole is a singularity, a point of infinite density where the laws of physics as we know them break down.\"\n",
            "    }\n",
            "  ]\n",
            "}\n"
          ]
        }
      ]
    }
  ],
  "metadata": {
    "colab": {
      "provenance": [],
      "toc_visible": true,
      "include_colab_link": true
    },
    "kernelspec": {
      "display_name": "Python 3 (ipykernel)",
      "language": "python",
      "name": "python3"
    },
    "language_info": {
      "codemirror_mode": {
        "name": "ipython",
        "version": 3
      },
      "file_extension": ".py",
      "mimetype": "text/x-python",
      "name": "python",
      "nbconvert_exporter": "python",
      "pygments_lexer": "ipython3",
      "version": "3.10.14"
    }
  },
  "nbformat": 4,
  "nbformat_minor": 5
}