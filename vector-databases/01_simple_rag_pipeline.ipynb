{
  "nbformat": 4,
  "nbformat_minor": 0,
  "metadata": {
    "colab": {
      "provenance": [],
      "toc_visible": true,
      "authorship_tag": "ABX9TyPbN0GyolthUttQdaZwXZae",
      "include_colab_link": true
    },
    "kernelspec": {
      "name": "python3",
      "display_name": "Python 3"
    },
    "language_info": {
      "name": "python"
    }
  },
  "cells": [
    {
      "cell_type": "markdown",
      "metadata": {
        "id": "view-in-github",
        "colab_type": "text"
      },
      "source": [
        "<a href=\"https://colab.research.google.com/github/rahiakela/genai-research-and-practice/blob/main/vector-databases/01_simple_rag_pipeline.ipynb\" target=\"_parent\"><img src=\"https://colab.research.google.com/assets/colab-badge.svg\" alt=\"Open In Colab\"/></a>"
      ]
    },
    {
      "cell_type": "markdown",
      "source": [
        "## Setup"
      ],
      "metadata": {
        "id": "5kMOtQ59jiR9"
      }
    },
    {
      "cell_type": "code",
      "source": [
        "!pip install chromadb sentence-transformers"
      ],
      "metadata": {
        "id": "M37W5XdojFZo"
      },
      "execution_count": null,
      "outputs": []
    },
    {
      "cell_type": "code",
      "source": [
        "from sentence_transformers import SentenceTransformer\n",
        "from chromadb import Client, Settings\n",
        "import chromadb"
      ],
      "metadata": {
        "id": "sSCQ56mKjs74"
      },
      "execution_count": 1,
      "outputs": []
    },
    {
      "cell_type": "markdown",
      "source": [
        "## 1.Model Initialization"
      ],
      "metadata": {
        "id": "gPWKjuafjldt"
      }
    },
    {
      "cell_type": "code",
      "source": [
        "# Initialize the embedding model\n",
        "# all-MiniLM-L6-v2 is a lightweight but effective model, good balance of speed/quality\n",
        "model = SentenceTransformer('all-MiniLM-L6-v2')"
      ],
      "metadata": {
        "id": "O7HhQD4giwvj"
      },
      "execution_count": null,
      "outputs": []
    },
    {
      "cell_type": "markdown",
      "source": [
        "## 2.Vector Store Setup"
      ],
      "metadata": {
        "id": "e8uGJrTjjywS"
      }
    },
    {
      "cell_type": "code",
      "source": [
        "# Initialize ChromaDB as our vector store\n",
        "# Using in-memory storage for this example\n",
        "chroma_client = Client(Settings(is_persistent=False))\n",
        "collection = chroma_client.create_collection(name=\"climate_docs\")"
      ],
      "metadata": {
        "id": "EiciLZi0i1Bu"
      },
      "execution_count": 3,
      "outputs": []
    },
    {
      "cell_type": "markdown",
      "source": [
        "## 3.Document Processing"
      ],
      "metadata": {
        "id": "PPzkdvDdj7qQ"
      }
    },
    {
      "cell_type": "code",
      "source": [
        "# Example documents to process\n",
        "documents = [\n",
        "    \"Climate change is affecting global weather patterns causing more extreme events.\",\n",
        "    \"Rising sea levels threaten coastal communities worldwide.\",\n",
        "    \"Greenhouse gas emissions continue to rise despite international agreements.\"\n",
        "]"
      ],
      "metadata": {
        "id": "GJ0Fj9K6i6wn"
      },
      "execution_count": 4,
      "outputs": []
    },
    {
      "cell_type": "code",
      "source": [
        "# Create embeddings for our documents\n",
        "# model.encode() converts text to dense vectors (embeddings)\n",
        "embeddings = model.encode(documents)"
      ],
      "metadata": {
        "id": "1t6eZftdjDCH"
      },
      "execution_count": 5,
      "outputs": []
    },
    {
      "cell_type": "markdown",
      "source": [
        "## 4.Storing Documents"
      ],
      "metadata": {
        "id": "oO1VeE51kLBM"
      }
    },
    {
      "cell_type": "code",
      "metadata": {
        "id": "21261517"
      },
      "source": [
        "# Store documents and their embeddings\n",
        "# ChromaDB expects embeddings as lists, so we convert numpy arrays\n",
        "collection.add(\n",
        "    embeddings=[e.tolist() for e in embeddings],\n",
        "    documents=documents,\n",
        "    ids=[f\"doc_{i}\" for i in range(len(documents))]\n",
        ")"
      ],
      "execution_count": 6,
      "outputs": []
    },
    {
      "cell_type": "markdown",
      "source": [
        "## 5.Query Processing"
      ],
      "metadata": {
        "id": "R-SvpROYkYDk"
      }
    },
    {
      "cell_type": "code",
      "source": [
        "# Process a query\n",
        "query = \"How does climate change affect weather?\"\n",
        "query_embedding = model.encode(query)"
      ],
      "metadata": {
        "id": "DuVm5iVdjNvO"
      },
      "execution_count": 7,
      "outputs": []
    },
    {
      "cell_type": "markdown",
      "source": [
        "## 6.Similarity Search"
      ],
      "metadata": {
        "id": "WsX-29j7k2_n"
      }
    },
    {
      "cell_type": "code",
      "source": [
        "# Search for similar documents\n",
        "results = collection.query(\n",
        "    query_embeddings=[query_embedding.tolist()],\n",
        "    n_results=2\n",
        ")"
      ],
      "metadata": {
        "id": "KY-7nmHQjTAC"
      },
      "execution_count": 8,
      "outputs": []
    },
    {
      "cell_type": "code",
      "source": [
        "# Print results\n",
        "for doc in results['documents'][0]:\n",
        "    print(f\"Retrieved document: {doc}\")"
      ],
      "metadata": {
        "colab": {
          "base_uri": "https://localhost:8080/"
        },
        "id": "gc6FJHJSjVdK",
        "outputId": "29fd1f35-cca3-46cd-9e33-534244aeeee3"
      },
      "execution_count": 9,
      "outputs": [
        {
          "output_type": "stream",
          "name": "stdout",
          "text": [
            "Retrieved document: Climate change is affecting global weather patterns causing more extreme events.\n",
            "Retrieved document: Rising sea levels threaten coastal communities worldwide.\n"
          ]
        }
      ]
    }
  ]
}