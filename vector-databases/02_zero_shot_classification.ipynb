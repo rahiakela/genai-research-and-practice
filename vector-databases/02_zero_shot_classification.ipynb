{
  "nbformat": 4,
  "nbformat_minor": 0,
  "metadata": {
    "colab": {
      "provenance": [],
      "toc_visible": true,
      "authorship_tag": "ABX9TyOulknpmOjf4QEFXtqk/Ftp",
      "include_colab_link": true
    },
    "kernelspec": {
      "name": "python3",
      "display_name": "Python 3"
    },
    "language_info": {
      "name": "python"
    }
  },
  "cells": [
    {
      "cell_type": "markdown",
      "metadata": {
        "id": "view-in-github",
        "colab_type": "text"
      },
      "source": [
        "<a href=\"https://colab.research.google.com/github/rahiakela/genai-research-and-practice/blob/main/vector-databases/02_zero_shot_classification.ipynb\" target=\"_parent\"><img src=\"https://colab.research.google.com/assets/colab-badge.svg\" alt=\"Open In Colab\"/></a>"
      ]
    },
    {
      "cell_type": "markdown",
      "source": [
        "## Setup"
      ],
      "metadata": {
        "id": "vpqG084P9hXa"
      }
    },
    {
      "cell_type": "code",
      "source": [
        "from sentence_transformers import SentenceTransformer, util\n",
        "import torch"
      ],
      "metadata": {
        "id": "tIldki8k9igd"
      },
      "execution_count": 1,
      "outputs": []
    },
    {
      "cell_type": "markdown",
      "source": [
        "## Zero-shot classification"
      ],
      "metadata": {
        "id": "xFFuTQ2l92KB"
      }
    },
    {
      "cell_type": "code",
      "source": [
        "class ZeroShotClassifier:\n",
        "    def __init__(self, model_name='all-mpnet-base-v2'):\n",
        "        self.model = SentenceTransformer(model_name)\n",
        "\n",
        "    def classify(self, text, candidate_labels):\n",
        "        # Encode the input text\n",
        "        text_embedding = self.model.encode(text, convert_to_tensor=True)\n",
        "\n",
        "        # Prepare label prompts\n",
        "        label_prompts = [f\"This text is about {label}\" for label in candidate_labels]\n",
        "        label_embeddings = self.model.encode(label_prompts, convert_to_tensor=True)\n",
        "\n",
        "        # Calculate similarities\n",
        "        similarities = util.pytorch_cos_sim(text_embedding, label_embeddings)[0]\n",
        "\n",
        "        # Create results dictionary\n",
        "        results = {\n",
        "            label: float(score)\n",
        "            for label, score in zip(candidate_labels, similarities)\n",
        "        }\n",
        "\n",
        "        return results"
      ],
      "metadata": {
        "id": "Us2FAuZr9mM-"
      },
      "execution_count": 2,
      "outputs": []
    },
    {
      "cell_type": "code",
      "source": [
        "# Example usage\n",
        "classifier = ZeroShotClassifier()"
      ],
      "metadata": {
        "id": "Uhy1KnP995n7"
      },
      "execution_count": null,
      "outputs": []
    },
    {
      "cell_type": "code",
      "source": [
        "text = \"The new quantum computer can perform calculations in seconds that would take classical computers thousands of years.\"\n",
        "labels = [\"technology\", \"sports\", \"cooking\", \"politics\"]\n",
        "\n",
        "results = classifier.classify(text, labels)\n",
        "print(\"Zero-shot classification results:\")\n",
        "for label, score in sorted(results.items(), key=lambda x: x[1], reverse=True):\n",
        "    print(f\"{label}: {score:.3f}\")"
      ],
      "metadata": {
        "colab": {
          "base_uri": "https://localhost:8080/"
        },
        "id": "mSQCSHIP99AF",
        "outputId": "f288d1bd-b9d3-4f05-e0ed-3f60cc2454a9"
      },
      "execution_count": 6,
      "outputs": [
        {
          "output_type": "stream",
          "name": "stdout",
          "text": [
            "Zero-shot classification results:\n",
            "technology: 0.236\n",
            "cooking: 0.024\n",
            "politics: 0.023\n",
            "sports: 0.018\n"
          ]
        }
      ]
    }
  ]
}