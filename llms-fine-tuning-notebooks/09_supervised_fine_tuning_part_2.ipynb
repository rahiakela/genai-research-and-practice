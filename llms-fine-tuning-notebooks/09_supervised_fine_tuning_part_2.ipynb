{
  "cells": [
    {
      "cell_type": "markdown",
      "metadata": {
        "id": "view-in-github",
        "colab_type": "text"
      },
      "source": [
        "<a href=\"https://colab.research.google.com/github/rahiakela/genai-research-and-practice/blob/main/llms-fine-tuning-notebooks/09_supervised_fine_tuning_part_2.ipynb\" target=\"_parent\"><img src=\"https://colab.research.google.com/assets/colab-badge.svg\" alt=\"Open In Colab\"/></a>"
      ]
    },
    {
      "cell_type": "markdown",
      "id": "dc935f2b-a58b-4110-8918-96c868047b38",
      "metadata": {
        "id": "dc935f2b-a58b-4110-8918-96c868047b38"
      },
      "source": [
        "## Supervised Fine-Tuning (SFT)"
      ]
    },
    {
      "cell_type": "code",
      "source": [
        "%pip install transformers datasets trl huggingface_hub"
      ],
      "metadata": {
        "id": "5foguhNgPu71"
      },
      "id": "5foguhNgPu71",
      "execution_count": null,
      "outputs": []
    },
    {
      "cell_type": "code",
      "execution_count": 1,
      "id": "d76b86a7-7a45-4749-866e-0d561041bce1",
      "metadata": {
        "height": 64,
        "id": "d76b86a7-7a45-4749-866e-0d561041bce1"
      },
      "outputs": [],
      "source": [
        "# Warning control\n",
        "import warnings\n",
        "warnings.filterwarnings('ignore')"
      ]
    },
    {
      "cell_type": "markdown",
      "id": "9bbfc986-9ac7-4a2d-9dd0-a76841c7f46d",
      "metadata": {
        "id": "9bbfc986-9ac7-4a2d-9dd0-a76841c7f46d"
      },
      "source": [
        "## Import libraries"
      ]
    },
    {
      "cell_type": "code",
      "execution_count": 2,
      "id": "3304e49d-bd1e-469b-a5b4-5edb16ecf344",
      "metadata": {
        "height": 113,
        "id": "3304e49d-bd1e-469b-a5b4-5edb16ecf344"
      },
      "outputs": [],
      "source": [
        "import torch\n",
        "import pandas as pd\n",
        "from datasets import load_dataset, Dataset\n",
        "from transformers import TrainingArguments, AutoTokenizer, AutoModelForCausalLM\n",
        "from trl import SFTTrainer, DataCollatorForCompletionOnlyLM, SFTConfig"
      ]
    },
    {
      "cell_type": "markdown",
      "id": "3cc63b02-5e9a-4a83-b042-4a2386cf5976",
      "metadata": {
        "id": "3cc63b02-5e9a-4a83-b042-4a2386cf5976"
      },
      "source": [
        "## Setting up helper functions"
      ]
    },
    {
      "cell_type": "code",
      "execution_count": 3,
      "id": "69982ae0-755e-48cf-ba4c-3b83b091fd9a",
      "metadata": {
        "height": 572,
        "id": "69982ae0-755e-48cf-ba4c-3b83b091fd9a"
      },
      "outputs": [],
      "source": [
        "def generate_responses(model, tokenizer, user_message, system_message=None,\n",
        "                       max_new_tokens=100):\n",
        "    # Format chat using tokenizer's chat template\n",
        "    messages = []\n",
        "    if system_message:\n",
        "        messages.append({\"role\": \"system\", \"content\": system_message})\n",
        "\n",
        "    # We assume the data are all single-turn conversation\n",
        "    messages.append({\"role\": \"user\", \"content\": user_message})\n",
        "\n",
        "    prompt = tokenizer.apply_chat_template(\n",
        "        messages,\n",
        "        tokenize=False,\n",
        "        add_generation_prompt=True,\n",
        "        enable_thinking=False,\n",
        "    )\n",
        "\n",
        "    inputs = tokenizer(prompt, return_tensors=\"pt\").to(model.device)\n",
        "    # Recommended to use vllm, sglang or TensorRT\n",
        "    with torch.no_grad():\n",
        "        outputs = model.generate(\n",
        "            **inputs,\n",
        "            max_new_tokens=max_new_tokens,\n",
        "            do_sample=False,\n",
        "            pad_token_id=tokenizer.eos_token_id,\n",
        "            eos_token_id=tokenizer.eos_token_id,\n",
        "        )\n",
        "    input_len = inputs[\"input_ids\"].shape[1]\n",
        "    generated_ids = outputs[0][input_len:]\n",
        "    response = tokenizer.decode(generated_ids, skip_special_tokens=True).strip()\n",
        "\n",
        "    return response"
      ]
    },
    {
      "cell_type": "code",
      "execution_count": 4,
      "id": "234e5b05-a493-4683-91fd-7417885efc0f",
      "metadata": {
        "height": 164,
        "id": "234e5b05-a493-4683-91fd-7417885efc0f"
      },
      "outputs": [],
      "source": [
        "def test_model_with_questions(model, tokenizer, questions,\n",
        "                              system_message=None, title=\"Model Output\"):\n",
        "    print(f\"\\n=== {title} ===\")\n",
        "    for i, question in enumerate(questions, 1):\n",
        "        response = generate_responses(model, tokenizer, question, system_message)\n",
        "        print(f\"\\nModel Input {i}:\\n{question}\\nModel Output {i}:\\n{response}\\n\")\n"
      ]
    },
    {
      "cell_type": "code",
      "execution_count": 5,
      "id": "9c273931-6827-4ee1-af1a-83a99bf94bf7",
      "metadata": {
        "height": 402,
        "id": "9c273931-6827-4ee1-af1a-83a99bf94bf7"
      },
      "outputs": [],
      "source": [
        "def load_model_and_tokenizer(model_name, use_gpu = False):\n",
        "\n",
        "    # Load base model and tokenizer\n",
        "    tokenizer = AutoTokenizer.from_pretrained(model_name)\n",
        "    model = AutoModelForCausalLM.from_pretrained(model_name)\n",
        "\n",
        "    if use_gpu:\n",
        "        model.to(\"cuda\")\n",
        "\n",
        "    if not tokenizer.chat_template:\n",
        "        tokenizer.chat_template = \"\"\"{% for message in messages %}\n",
        "                {% if message['role'] == 'system' %}System: {{ message['content'] }}\\n\n",
        "                {% elif message['role'] == 'user' %}User: {{ message['content'] }}\\n\n",
        "                {% elif message['role'] == 'assistant' %}Assistant: {{ message['content'] }} <|endoftext|>\n",
        "                {% endif %}\n",
        "                {% endfor %}\"\"\"\n",
        "\n",
        "    # Tokenizer config\n",
        "    if not tokenizer.pad_token:\n",
        "        tokenizer.pad_token = tokenizer.eos_token\n",
        "\n",
        "    return model, tokenizer"
      ]
    },
    {
      "cell_type": "code",
      "execution_count": 6,
      "id": "5bd15e1d-6ecd-4337-a5dd-1602da354f62",
      "metadata": {
        "height": 334,
        "id": "5bd15e1d-6ecd-4337-a5dd-1602da354f62"
      },
      "outputs": [],
      "source": [
        "def display_dataset(dataset):\n",
        "    # Visualize the dataset\n",
        "    rows = []\n",
        "    for i in range(3):\n",
        "        example = dataset[i]\n",
        "        user_msg = next(m['content'] for m in example['messages']\n",
        "                        if m['role'] == 'user')\n",
        "        assistant_msg = next(m['content'] for m in example['messages']\n",
        "                             if m['role'] == 'assistant')\n",
        "        rows.append({\n",
        "            'User Prompt': user_msg,\n",
        "            'Assistant Response': assistant_msg\n",
        "        })\n",
        "\n",
        "    # Display as table\n",
        "    df = pd.DataFrame(rows)\n",
        "    pd.set_option('display.max_colwidth', None)  # Avoid truncating long strings\n",
        "    display(df)"
      ]
    },
    {
      "cell_type": "markdown",
      "id": "0f5ac817-43a4-43c9-88f3-9825b96b84b7",
      "metadata": {
        "id": "0f5ac817-43a4-43c9-88f3-9825b96b84b7"
      },
      "source": [
        "## Load base model & test on simple questions"
      ]
    },
    {
      "cell_type": "code",
      "execution_count": 7,
      "id": "4fed78c2-ea93-4ac2-bd6f-5d4391de7c8d",
      "metadata": {
        "height": 147,
        "id": "4fed78c2-ea93-4ac2-bd6f-5d4391de7c8d"
      },
      "outputs": [],
      "source": [
        "USE_GPU = False\n",
        "\n",
        "questions = [\n",
        "    \"Give me an 1-sentence introduction of LLM.\",\n",
        "    \"Calculate 1+1-1\",\n",
        "    \"What's the difference between thread and process?\"\n",
        "]"
      ]
    },
    {
      "cell_type": "code",
      "execution_count": null,
      "id": "ba426c74-4d93-42b3-b2c7-5791fb9bf3c5",
      "metadata": {
        "height": 130,
        "id": "ba426c74-4d93-42b3-b2c7-5791fb9bf3c5"
      },
      "outputs": [],
      "source": [
        "model, tokenizer = load_model_and_tokenizer(\"Qwen/Qwen3-0.6B-Base\", USE_GPU)"
      ]
    },
    {
      "cell_type": "code",
      "source": [
        "test_model_with_questions(\n",
        "    model,\n",
        "    tokenizer,\n",
        "    questions,\n",
        "    title=\"Base Model (Before SFT) Output\"\n",
        ")\n",
        "\n",
        "del model, tokenizer"
      ],
      "metadata": {
        "colab": {
          "base_uri": "https://localhost:8080/"
        },
        "id": "XkQ-rO9UQ2VL",
        "outputId": "f3c3668f-bfbd-4a15-f58e-4a49b3c9446f"
      },
      "id": "XkQ-rO9UQ2VL",
      "execution_count": 9,
      "outputs": [
        {
          "output_type": "stream",
          "name": "stdout",
          "text": [
            "\n",
            "=== Base Model (Before SFT) Output ===\n",
            "\n",
            "Model Input 1:\n",
            "Give me an 1-sentence introduction of LLM.\n",
            "Model Output 1:\n",
            "⚙ ⚙ ⚙ ⚙ ⚙ ⚙ ⚙ ⚙ ⚙ ⚙ ⚙ ⚙ ⚙ ⚙ ⚙ ⚙ ⚙ ⚙ ⚙ ⚙ ⚙ ⚙ ⚙ ⚙ ⚙ ⚙ ⚙ ⚙ ⚙ ⚙ ⚙ ⚙ ⚙ �\n",
            "\n",
            "\n",
            "Model Input 2:\n",
            "Calculate 1+1-1\n",
            "Model Output 2:\n",
            "⚇ ⚇ ⚇ ⚇ ⚇ ⚇ ⚇ ⚇ ⚇ ⚇ ⚇ ⚇ ⚇ ⚇ ⚇ ⚇ ⚇ ⚇ ⚇ ⚇ ⚇ ⚇ ⚇ ⚇ ⚇ ⚇ ⚇ ⚇ ⚇ ⚇ ⚇ ⚇ ⚇ �\n",
            "\n",
            "\n",
            "Model Input 3:\n",
            "What's the difference between thread and process?\n",
            "Model Output 3:\n",
            "⚇ ⚇ ⚇ ⚇ ⚇ ⚇ ⚇ ⚇ ⚇ ⚇ ⚇ ⚇ ⚇ ⚇ ⚇ ⚇ ⚇ ⚇ ⚇ ⚇ ⚇ ⚇ ⚇ ⚇ ⚇ ⚇ ⚇ ⚇ ⚇ ⚇ ⚇ ⚇ ⚇ �\n",
            "\n"
          ]
        }
      ]
    },
    {
      "cell_type": "markdown",
      "id": "885253e0-3a9a-4b42-a36b-a8a3ddd340a1",
      "metadata": {
        "id": "885253e0-3a9a-4b42-a36b-a8a3ddd340a1"
      },
      "source": [
        "## SFT results on Qwen3-0.6B model\n",
        "\n",
        "In this section, we're reviewing the results of a previously completed SFT training. Due to limited resources, we won’t be running the full training on a relatively large model like Qwen3-0.6B.\n",
        "\n",
        "However, in the next section of this notebook, you’ll walk through the full training process using a smaller model and a lightweight dataset."
      ]
    },
    {
      "cell_type": "code",
      "execution_count": null,
      "id": "6e86f13c-c969-4c7e-8702-d074ee7a2ce6",
      "metadata": {
        "height": 130,
        "id": "6e86f13c-c969-4c7e-8702-d074ee7a2ce6"
      },
      "outputs": [],
      "source": [
        "model, tokenizer = load_model_and_tokenizer(\"banghua/Qwen3-0.6B-SFT\", USE_GPU)"
      ]
    },
    {
      "cell_type": "code",
      "source": [
        "test_model_with_questions(\n",
        "    model,\n",
        "    tokenizer,\n",
        "    questions,\n",
        "    title=\"Base Model (After SFT) Output\"\n",
        ")\n",
        "\n",
        "del model, tokenizer"
      ],
      "metadata": {
        "colab": {
          "base_uri": "https://localhost:8080/"
        },
        "id": "4H3vyE1TRo-c",
        "outputId": "af87f22e-e770-4f89-9e35-38d85b171247"
      },
      "id": "4H3vyE1TRo-c",
      "execution_count": 11,
      "outputs": [
        {
          "output_type": "stream",
          "name": "stdout",
          "text": [
            "\n",
            "=== Base Model (After SFT) Output ===\n",
            "\n",
            "Model Input 1:\n",
            "Give me an 1-sentence introduction of LLM.\n",
            "Model Output 1:\n",
            "LLM is a program that provides advanced legal knowledge and skills to professionals and individuals.\n",
            "\n",
            "\n",
            "Model Input 2:\n",
            "Calculate 1+1-1\n",
            "Model Output 2:\n",
            "1+1-1 = 2-1 = 1\n",
            "\n",
            "So, the final answer is 1.\n",
            "\n",
            "\n",
            "Model Input 3:\n",
            "What's the difference between thread and process?\n",
            "Model Output 3:\n",
            "In computer science, a thread is a unit of execution that runs in a separate process. It is a lightweight process that can be created and destroyed independently of other threads. Threads are used to implement concurrent programming, where multiple tasks are executed simultaneously in different parts of the program. Each thread has its own memory space and execution context, and it is possible for multiple threads to run concurrently without interfering with each other. Threads are also known as lightweight processes.\n",
            "\n"
          ]
        }
      ]
    },
    {
      "cell_type": "markdown",
      "id": "ccf299ee-aa84-4c43-8d7b-f0998077e2cb",
      "metadata": {
        "id": "ccf299ee-aa84-4c43-8d7b-f0998077e2cb"
      },
      "source": [
        "## Doing SFT on a small model"
      ]
    },
    {
      "cell_type": "markdown",
      "id": "7c5cb7ea-e157-418e-84f5-34ecbed823ad",
      "metadata": {
        "id": "7c5cb7ea-e157-418e-84f5-34ecbed823ad"
      },
      "source": [
        "<div style=\"background-color:#fff6ff; padding:13px; border-width:3px; border-color:#efe6ef; border-style:solid; border-radius:6px\">\n",
        "<p> 💻 &nbsp; <b>Note:</b> We're performing SFT on a small model <code>HuggingFaceTB/SmolLM2-135M</code> and a smaller training dataset to to ensure the full training process can run on limited computational resources. If you're running the notebooks on your own machine and have access to a GPU, feel free to switch to a larger model—such as <code>Qwen/Qwen3-0.6B-Base</code>—to perform full SFT and reproduce the results shown above.</p>\n",
        "</div>"
      ]
    },
    {
      "cell_type": "code",
      "execution_count": null,
      "id": "fdb07589-049d-432e-8001-e6e9175ad806",
      "metadata": {
        "height": 62,
        "id": "fdb07589-049d-432e-8001-e6e9175ad806"
      },
      "outputs": [],
      "source": [
        "USE_GPU = True\n",
        "\n",
        "model_name = \"HuggingFaceTB/SmolLM2-135M\"\n",
        "model, tokenizer = load_model_and_tokenizer(model_name, USE_GPU)"
      ]
    },
    {
      "cell_type": "code",
      "execution_count": null,
      "id": "20d52c3e-9c6c-43c3-bd95-92d60b9c9a8f",
      "metadata": {
        "height": 113,
        "id": "20d52c3e-9c6c-43c3-bd95-92d60b9c9a8f"
      },
      "outputs": [],
      "source": [
        "train_dataset = load_dataset(\"banghua/DL-SFT-Dataset\")[\"train\"]\n",
        "if not USE_GPU:\n",
        "    train_dataset=train_dataset.select(range(100))"
      ]
    },
    {
      "cell_type": "code",
      "source": [
        "display_dataset(train_dataset)"
      ],
      "metadata": {
        "colab": {
          "base_uri": "https://localhost:8080/",
          "height": 386
        },
        "id": "cuNHFQHzU6qx",
        "outputId": "37796b24-5604-4ad5-c693-43d4065d49a0"
      },
      "id": "cuNHFQHzU6qx",
      "execution_count": 10,
      "outputs": [
        {
          "output_type": "display_data",
          "data": {
            "text/plain": [
              "                                                                                                                                                                                                                                                                                                                                                                                                                                                                 User Prompt  \\\n",
              "0                                                                                                                                                                                                                                                                                                                      - The left child should have a value less than the parent node's value, and the right child should have a value greater than the parent node's value.   \n",
              "1  To pass three levels must be the plan.\\nThen tackle Two, when that is done.\\nOf 100 that start, at the end will be 20.\\nFinQuiz is a website that helps you prepare.\\nUse it to be stress-free, and not lose your hair.\\nThen, take the exam with a smile on your face.\\nBe confident that you will gain your place.\\nSo make this the goal to which you aspire. How many individuals out of 100 will successfully complete all three levels of preparation for the exam?   \n",
              "2                                                                                                                                             Can you translate the text material into Spanish or any other language?: He really is, you know.\\nThings a hero should show.\\nHe loves me more than a zillion things.\\nHe loves me when I sing my jolly folktale rhymes.\\nHe's good, not just good, in fact he's great!\\nBut because he's my best mate!\\nWOW !!! I love it!!!!   \n",
              "\n",
              "                                                                                                                                                                                                                                                                                                                              Assistant Response  \n",
              "0                              This statement is correct. In a binary search tree, nodes in the left subtree of a particular node have values less than the node's value, while nodes in the right subtree have values greater than the node's value. This property helps in the efficient search, insertion, and deletion of nodes in the tree.  \n",
              "1                                                                                                           Based on the given information, out of 100 individuals who start, only 20 will make it to the end. There is no information provided on how many individuals will successfully complete all three levels of preparation specifically.  \n",
              "2  ¿Puede traducir el texto a español o a cualquier otro idioma?: \\nRealmente lo es, ya sabes.\\nCosas que un héroe debería demostrar.\\nMe quiere más que un millón de cosas.\\nMe quiere cuando canto mis alegres rimas de cuentos populares.\\nEs bueno, no solo bueno, ¡de hecho es genial!\\n¡Pero porque es mi mejor amigo!\\n¡WOW! ¡Me encanta!  "
            ],
            "text/html": [
              "\n",
              "  <div id=\"df-16b87da6-aea7-40f3-84fd-2cd6c511a0a5\" class=\"colab-df-container\">\n",
              "    <div>\n",
              "<style scoped>\n",
              "    .dataframe tbody tr th:only-of-type {\n",
              "        vertical-align: middle;\n",
              "    }\n",
              "\n",
              "    .dataframe tbody tr th {\n",
              "        vertical-align: top;\n",
              "    }\n",
              "\n",
              "    .dataframe thead th {\n",
              "        text-align: right;\n",
              "    }\n",
              "</style>\n",
              "<table border=\"1\" class=\"dataframe\">\n",
              "  <thead>\n",
              "    <tr style=\"text-align: right;\">\n",
              "      <th></th>\n",
              "      <th>User Prompt</th>\n",
              "      <th>Assistant Response</th>\n",
              "    </tr>\n",
              "  </thead>\n",
              "  <tbody>\n",
              "    <tr>\n",
              "      <th>0</th>\n",
              "      <td>- The left child should have a value less than the parent node's value, and the right child should have a value greater than the parent node's value.</td>\n",
              "      <td>This statement is correct. In a binary search tree, nodes in the left subtree of a particular node have values less than the node's value, while nodes in the right subtree have values greater than the node's value. This property helps in the efficient search, insertion, and deletion of nodes in the tree.</td>\n",
              "    </tr>\n",
              "    <tr>\n",
              "      <th>1</th>\n",
              "      <td>To pass three levels must be the plan.\\nThen tackle Two, when that is done.\\nOf 100 that start, at the end will be 20.\\nFinQuiz is a website that helps you prepare.\\nUse it to be stress-free, and not lose your hair.\\nThen, take the exam with a smile on your face.\\nBe confident that you will gain your place.\\nSo make this the goal to which you aspire. How many individuals out of 100 will successfully complete all three levels of preparation for the exam?</td>\n",
              "      <td>Based on the given information, out of 100 individuals who start, only 20 will make it to the end. There is no information provided on how many individuals will successfully complete all three levels of preparation specifically.</td>\n",
              "    </tr>\n",
              "    <tr>\n",
              "      <th>2</th>\n",
              "      <td>Can you translate the text material into Spanish or any other language?: He really is, you know.\\nThings a hero should show.\\nHe loves me more than a zillion things.\\nHe loves me when I sing my jolly folktale rhymes.\\nHe's good, not just good, in fact he's great!\\nBut because he's my best mate!\\nWOW !!! I love it!!!!</td>\n",
              "      <td>¿Puede traducir el texto a español o a cualquier otro idioma?: \\nRealmente lo es, ya sabes.\\nCosas que un héroe debería demostrar.\\nMe quiere más que un millón de cosas.\\nMe quiere cuando canto mis alegres rimas de cuentos populares.\\nEs bueno, no solo bueno, ¡de hecho es genial!\\n¡Pero porque es mi mejor amigo!\\n¡WOW! ¡Me encanta!</td>\n",
              "    </tr>\n",
              "  </tbody>\n",
              "</table>\n",
              "</div>\n",
              "    <div class=\"colab-df-buttons\">\n",
              "\n",
              "  <div class=\"colab-df-container\">\n",
              "    <button class=\"colab-df-convert\" onclick=\"convertToInteractive('df-16b87da6-aea7-40f3-84fd-2cd6c511a0a5')\"\n",
              "            title=\"Convert this dataframe to an interactive table.\"\n",
              "            style=\"display:none;\">\n",
              "\n",
              "  <svg xmlns=\"http://www.w3.org/2000/svg\" height=\"24px\" viewBox=\"0 -960 960 960\">\n",
              "    <path d=\"M120-120v-720h720v720H120Zm60-500h600v-160H180v160Zm220 220h160v-160H400v160Zm0 220h160v-160H400v160ZM180-400h160v-160H180v160Zm440 0h160v-160H620v160ZM180-180h160v-160H180v160Zm440 0h160v-160H620v160Z\"/>\n",
              "  </svg>\n",
              "    </button>\n",
              "\n",
              "  <style>\n",
              "    .colab-df-container {\n",
              "      display:flex;\n",
              "      gap: 12px;\n",
              "    }\n",
              "\n",
              "    .colab-df-convert {\n",
              "      background-color: #E8F0FE;\n",
              "      border: none;\n",
              "      border-radius: 50%;\n",
              "      cursor: pointer;\n",
              "      display: none;\n",
              "      fill: #1967D2;\n",
              "      height: 32px;\n",
              "      padding: 0 0 0 0;\n",
              "      width: 32px;\n",
              "    }\n",
              "\n",
              "    .colab-df-convert:hover {\n",
              "      background-color: #E2EBFA;\n",
              "      box-shadow: 0px 1px 2px rgba(60, 64, 67, 0.3), 0px 1px 3px 1px rgba(60, 64, 67, 0.15);\n",
              "      fill: #174EA6;\n",
              "    }\n",
              "\n",
              "    .colab-df-buttons div {\n",
              "      margin-bottom: 4px;\n",
              "    }\n",
              "\n",
              "    [theme=dark] .colab-df-convert {\n",
              "      background-color: #3B4455;\n",
              "      fill: #D2E3FC;\n",
              "    }\n",
              "\n",
              "    [theme=dark] .colab-df-convert:hover {\n",
              "      background-color: #434B5C;\n",
              "      box-shadow: 0px 1px 3px 1px rgba(0, 0, 0, 0.15);\n",
              "      filter: drop-shadow(0px 1px 2px rgba(0, 0, 0, 0.3));\n",
              "      fill: #FFFFFF;\n",
              "    }\n",
              "  </style>\n",
              "\n",
              "    <script>\n",
              "      const buttonEl =\n",
              "        document.querySelector('#df-16b87da6-aea7-40f3-84fd-2cd6c511a0a5 button.colab-df-convert');\n",
              "      buttonEl.style.display =\n",
              "        google.colab.kernel.accessAllowed ? 'block' : 'none';\n",
              "\n",
              "      async function convertToInteractive(key) {\n",
              "        const element = document.querySelector('#df-16b87da6-aea7-40f3-84fd-2cd6c511a0a5');\n",
              "        const dataTable =\n",
              "          await google.colab.kernel.invokeFunction('convertToInteractive',\n",
              "                                                    [key], {});\n",
              "        if (!dataTable) return;\n",
              "\n",
              "        const docLinkHtml = 'Like what you see? Visit the ' +\n",
              "          '<a target=\"_blank\" href=https://colab.research.google.com/notebooks/data_table.ipynb>data table notebook</a>'\n",
              "          + ' to learn more about interactive tables.';\n",
              "        element.innerHTML = '';\n",
              "        dataTable['output_type'] = 'display_data';\n",
              "        await google.colab.output.renderOutput(dataTable, element);\n",
              "        const docLink = document.createElement('div');\n",
              "        docLink.innerHTML = docLinkHtml;\n",
              "        element.appendChild(docLink);\n",
              "      }\n",
              "    </script>\n",
              "  </div>\n",
              "\n",
              "\n",
              "    <div id=\"df-06076240-b518-4632-8db3-c1f9aecd30ee\">\n",
              "      <button class=\"colab-df-quickchart\" onclick=\"quickchart('df-06076240-b518-4632-8db3-c1f9aecd30ee')\"\n",
              "                title=\"Suggest charts\"\n",
              "                style=\"display:none;\">\n",
              "\n",
              "<svg xmlns=\"http://www.w3.org/2000/svg\" height=\"24px\"viewBox=\"0 0 24 24\"\n",
              "     width=\"24px\">\n",
              "    <g>\n",
              "        <path d=\"M19 3H5c-1.1 0-2 .9-2 2v14c0 1.1.9 2 2 2h14c1.1 0 2-.9 2-2V5c0-1.1-.9-2-2-2zM9 17H7v-7h2v7zm4 0h-2V7h2v10zm4 0h-2v-4h2v4z\"/>\n",
              "    </g>\n",
              "</svg>\n",
              "      </button>\n",
              "\n",
              "<style>\n",
              "  .colab-df-quickchart {\n",
              "      --bg-color: #E8F0FE;\n",
              "      --fill-color: #1967D2;\n",
              "      --hover-bg-color: #E2EBFA;\n",
              "      --hover-fill-color: #174EA6;\n",
              "      --disabled-fill-color: #AAA;\n",
              "      --disabled-bg-color: #DDD;\n",
              "  }\n",
              "\n",
              "  [theme=dark] .colab-df-quickchart {\n",
              "      --bg-color: #3B4455;\n",
              "      --fill-color: #D2E3FC;\n",
              "      --hover-bg-color: #434B5C;\n",
              "      --hover-fill-color: #FFFFFF;\n",
              "      --disabled-bg-color: #3B4455;\n",
              "      --disabled-fill-color: #666;\n",
              "  }\n",
              "\n",
              "  .colab-df-quickchart {\n",
              "    background-color: var(--bg-color);\n",
              "    border: none;\n",
              "    border-radius: 50%;\n",
              "    cursor: pointer;\n",
              "    display: none;\n",
              "    fill: var(--fill-color);\n",
              "    height: 32px;\n",
              "    padding: 0;\n",
              "    width: 32px;\n",
              "  }\n",
              "\n",
              "  .colab-df-quickchart:hover {\n",
              "    background-color: var(--hover-bg-color);\n",
              "    box-shadow: 0 1px 2px rgba(60, 64, 67, 0.3), 0 1px 3px 1px rgba(60, 64, 67, 0.15);\n",
              "    fill: var(--button-hover-fill-color);\n",
              "  }\n",
              "\n",
              "  .colab-df-quickchart-complete:disabled,\n",
              "  .colab-df-quickchart-complete:disabled:hover {\n",
              "    background-color: var(--disabled-bg-color);\n",
              "    fill: var(--disabled-fill-color);\n",
              "    box-shadow: none;\n",
              "  }\n",
              "\n",
              "  .colab-df-spinner {\n",
              "    border: 2px solid var(--fill-color);\n",
              "    border-color: transparent;\n",
              "    border-bottom-color: var(--fill-color);\n",
              "    animation:\n",
              "      spin 1s steps(1) infinite;\n",
              "  }\n",
              "\n",
              "  @keyframes spin {\n",
              "    0% {\n",
              "      border-color: transparent;\n",
              "      border-bottom-color: var(--fill-color);\n",
              "      border-left-color: var(--fill-color);\n",
              "    }\n",
              "    20% {\n",
              "      border-color: transparent;\n",
              "      border-left-color: var(--fill-color);\n",
              "      border-top-color: var(--fill-color);\n",
              "    }\n",
              "    30% {\n",
              "      border-color: transparent;\n",
              "      border-left-color: var(--fill-color);\n",
              "      border-top-color: var(--fill-color);\n",
              "      border-right-color: var(--fill-color);\n",
              "    }\n",
              "    40% {\n",
              "      border-color: transparent;\n",
              "      border-right-color: var(--fill-color);\n",
              "      border-top-color: var(--fill-color);\n",
              "    }\n",
              "    60% {\n",
              "      border-color: transparent;\n",
              "      border-right-color: var(--fill-color);\n",
              "    }\n",
              "    80% {\n",
              "      border-color: transparent;\n",
              "      border-right-color: var(--fill-color);\n",
              "      border-bottom-color: var(--fill-color);\n",
              "    }\n",
              "    90% {\n",
              "      border-color: transparent;\n",
              "      border-bottom-color: var(--fill-color);\n",
              "    }\n",
              "  }\n",
              "</style>\n",
              "\n",
              "      <script>\n",
              "        async function quickchart(key) {\n",
              "          const quickchartButtonEl =\n",
              "            document.querySelector('#' + key + ' button');\n",
              "          quickchartButtonEl.disabled = true;  // To prevent multiple clicks.\n",
              "          quickchartButtonEl.classList.add('colab-df-spinner');\n",
              "          try {\n",
              "            const charts = await google.colab.kernel.invokeFunction(\n",
              "                'suggestCharts', [key], {});\n",
              "          } catch (error) {\n",
              "            console.error('Error during call to suggestCharts:', error);\n",
              "          }\n",
              "          quickchartButtonEl.classList.remove('colab-df-spinner');\n",
              "          quickchartButtonEl.classList.add('colab-df-quickchart-complete');\n",
              "        }\n",
              "        (() => {\n",
              "          let quickchartButtonEl =\n",
              "            document.querySelector('#df-06076240-b518-4632-8db3-c1f9aecd30ee button');\n",
              "          quickchartButtonEl.style.display =\n",
              "            google.colab.kernel.accessAllowed ? 'block' : 'none';\n",
              "        })();\n",
              "      </script>\n",
              "    </div>\n",
              "\n",
              "    </div>\n",
              "  </div>\n"
            ],
            "application/vnd.google.colaboratory.intrinsic+json": {
              "type": "dataframe",
              "summary": "{\n  \"name\": \"display_dataset(train_dataset)\",\n  \"rows\": 3,\n  \"fields\": [\n    {\n      \"column\": \"User Prompt\",\n      \"properties\": {\n        \"dtype\": \"string\",\n        \"num_unique_values\": 3,\n        \"samples\": [\n          \"- The left child should have a value less than the parent node's value, and the right child should have a value greater than the parent node's value.\",\n          \"To pass three levels must be the plan.\\nThen tackle Two, when that is done.\\nOf 100 that start, at the end will be 20.\\nFinQuiz is a website that helps you prepare.\\nUse it to be stress-free, and not lose your hair.\\nThen, take the exam with a smile on your face.\\nBe confident that you will gain your place.\\nSo make this the goal to which you aspire. How many individuals out of 100 will successfully complete all three levels of preparation for the exam?\",\n          \"Can you translate the text material into Spanish or any other language?: He really is, you know.\\nThings a hero should show.\\nHe loves me more than a zillion things.\\nHe loves me when I sing my jolly folktale rhymes.\\nHe's good, not just good, in fact he's great!\\nBut because he's my best mate!\\nWOW !!! I love it!!!!\"\n        ],\n        \"semantic_type\": \"\",\n        \"description\": \"\"\n      }\n    },\n    {\n      \"column\": \"Assistant Response\",\n      \"properties\": {\n        \"dtype\": \"string\",\n        \"num_unique_values\": 3,\n        \"samples\": [\n          \"This statement is correct. In a binary search tree, nodes in the left subtree of a particular node have values less than the node's value, while nodes in the right subtree have values greater than the node's value. This property helps in the efficient search, insertion, and deletion of nodes in the tree.\",\n          \"Based on the given information, out of 100 individuals who start, only 20 will make it to the end. There is no information provided on how many individuals will successfully complete all three levels of preparation specifically.\",\n          \"\\u00bfPuede traducir el texto a espa\\u00f1ol o a cualquier otro idioma?: \\nRealmente lo es, ya sabes.\\nCosas que un h\\u00e9roe deber\\u00eda demostrar.\\nMe quiere m\\u00e1s que un mill\\u00f3n de cosas.\\nMe quiere cuando canto mis alegres rimas de cuentos populares.\\nEs bueno, no solo bueno, \\u00a1de hecho es genial!\\n\\u00a1Pero porque es mi mejor amigo!\\n\\u00a1WOW! \\u00a1Me encanta!\"\n        ],\n        \"semantic_type\": \"\",\n        \"description\": \"\"\n      }\n    }\n  ]\n}"
            }
          },
          "metadata": {}
        }
      ]
    },
    {
      "cell_type": "code",
      "execution_count": 11,
      "id": "01c515a8-3728-45fa-88cc-6eb4de839839",
      "metadata": {
        "height": 198,
        "id": "01c515a8-3728-45fa-88cc-6eb4de839839"
      },
      "outputs": [],
      "source": [
        "# SFTTrainer config\n",
        "sft_config = SFTConfig(\n",
        "    learning_rate=8e-5, # Learning rate for training.\n",
        "    num_train_epochs=1, #  Set the number of epochs to train the model.\n",
        "    per_device_train_batch_size=1, # Batch size for each device (e.g., GPU) during training.\n",
        "    gradient_accumulation_steps=8, # Number of steps before performing a backward/update pass to accumulate gradients.\n",
        "    gradient_checkpointing=False, # Enable gradient checkpointing to reduce memory usage during training at the cost of slower training speed.\n",
        "    logging_steps=2,  # Frequency of logging training progress (log every 2 steps).\n",
        ")"
      ]
    },
    {
      "cell_type": "code",
      "execution_count": null,
      "id": "5cd7d132-4c69-4b12-a8ec-e6b4795faad9",
      "metadata": {
        "height": 132,
        "id": "5cd7d132-4c69-4b12-a8ec-e6b4795faad9"
      },
      "outputs": [],
      "source": [
        "sft_trainer = SFTTrainer(\n",
        "    model=model,\n",
        "    args=sft_config,\n",
        "    train_dataset=train_dataset,\n",
        "    processing_class=tokenizer,\n",
        ")\n",
        "sft_trainer.train()"
      ]
    },
    {
      "cell_type": "markdown",
      "id": "56b4bac1-7262-4c55-b411-6a59188157b0",
      "metadata": {
        "id": "56b4bac1-7262-4c55-b411-6a59188157b0"
      },
      "source": [
        "## Testing training results on small model and small dataset\n",
        "\n",
        "**Note:** The following results are for the small model and dataset we used for SFT training, due to limited computational resources. To view the results of full-scale training on a larger model, see the **\"SFT Results on Qwen3-0.6B Model\"** section above."
      ]
    },
    {
      "cell_type": "code",
      "source": [
        "questions = [\n",
        "    \"Give me an 1-sentence introduction of LLM.\",\n",
        "    \"Calculate 1+1-1\",\n",
        "    \"What's the difference between thread and process?\"\n",
        "]"
      ],
      "metadata": {
        "id": "4tGIkZldXpRB"
      },
      "id": "4tGIkZldXpRB",
      "execution_count": 14,
      "outputs": []
    },
    {
      "cell_type": "code",
      "execution_count": 15,
      "id": "0d678274-5768-4cea-ae20-051488e5d0f3",
      "metadata": {
        "height": 96,
        "colab": {
          "base_uri": "https://localhost:8080/"
        },
        "id": "0d678274-5768-4cea-ae20-051488e5d0f3",
        "outputId": "d2fbbf4f-9a8a-48b5-c423-c6f00f8e8d45"
      },
      "outputs": [
        {
          "output_type": "stream",
          "name": "stdout",
          "text": [
            "\n",
            "=== Base Model (After SFT) Output ===\n",
            "\n",
            "Model Input 1:\n",
            "Give me an 1-sentence introduction of LLM.\n",
            "Model Output 1:\n",
            "1. I am a graduate of the University of Oxford.\n",
            "2. I am a graduate of the University of Oxford.\n",
            "3. I am a graduate of the University of Oxford.\n",
            "4. I am a graduate of the University of Oxford.\n",
            "5. I am a graduate of the University of Oxford.\n",
            "6. I am a graduate of the University of Oxford.\n",
            "7. I am a graduate of the University of Oxford.\n",
            "8. I am a graduate of the University\n",
            "\n",
            "\n",
            "Model Input 2:\n",
            "Calculate 1+1-1\n",
            "Model Output 2:\n",
            "1+1-1 = 1+1-1 = 1+1-1 = 1+1-1 = 1+1-1 = 1+1-1 = 1+1-1 = 1+1-1 = 1+1-1 = 1+1-1 = 1+1-1 = 1+1-1 = 1+1-1 = 1+1-1 = 1+\n",
            "\n",
            "\n",
            "Model Input 3:\n",
            "What's the difference between thread and process?\n",
            "Model Output 3:\n",
            "Assistant: Thread is a single-threaded process that runs in a separate thread of execution from the main thread. It is a lightweight process that can be used to execute a single task or a single function. Threads are typically used for multithreaded applications, such as web applications or video games.\n",
            "\n",
            "Process is a single-threaded process that runs in a single thread of execution. It is a heavy-weight process that can be used to execute multiple tasks or functions\n",
            "\n"
          ]
        }
      ],
      "source": [
        "if not USE_GPU: # move model to CPU when GPU isn’t requested\n",
        "    sft_trainer.model.to(\"cpu\")\n",
        "\n",
        "test_model_with_questions(\n",
        "    sft_trainer.model,\n",
        "    tokenizer,\n",
        "    questions,\n",
        "    title=\"Base Model (After SFT) Output\"\n",
        ")"
      ]
    }
  ],
  "metadata": {
    "kernelspec": {
      "display_name": "Python 3",
      "name": "python3"
    },
    "language_info": {
      "codemirror_mode": {
        "name": "ipython",
        "version": 3
      },
      "file_extension": ".py",
      "mimetype": "text/x-python",
      "name": "python",
      "nbconvert_exporter": "python",
      "pygments_lexer": "ipython3",
      "version": "3.11.3"
    },
    "colab": {
      "provenance": [],
      "toc_visible": true,
      "gpuType": "T4",
      "include_colab_link": true
    },
    "accelerator": "GPU"
  },
  "nbformat": 4,
  "nbformat_minor": 5
}