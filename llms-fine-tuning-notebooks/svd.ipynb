{
  "cells": [
    {
      "cell_type": "markdown",
      "metadata": {
        "id": "view-in-github",
        "colab_type": "text"
      },
      "source": [
        "<a href=\"https://colab.research.google.com/github/rahiakela/genai-research-and-practice/blob/main/llms-fine-tuning-notebooks/svd.ipynb\" target=\"_parent\"><img src=\"https://colab.research.google.com/assets/colab-badge.svg\" alt=\"Open In Colab\"/></a>"
      ]
    },
    {
      "cell_type": "markdown",
      "metadata": {
        "id": "douBQVjIg3Oj"
      },
      "source": [
        "# Singular Value Decomposition"
      ]
    },
    {
      "cell_type": "code",
      "execution_count": 1,
      "metadata": {
        "id": "ozjKRymKg3Op"
      },
      "outputs": [],
      "source": [
        "import torch\n",
        "import numpy as np\n",
        "_ = torch.manual_seed(0)"
      ]
    },
    {
      "cell_type": "markdown",
      "metadata": {
        "id": "wY4QL7uXg3Os"
      },
      "source": [
        "Generate a rank-deficient matrix W"
      ]
    },
    {
      "cell_type": "code",
      "execution_count": 2,
      "metadata": {
        "id": "3eKJ_eP3g3Ot",
        "outputId": "2c1b5dd1-9df1-42bc-d09b-18ca22039e08",
        "colab": {
          "base_uri": "https://localhost:8080/"
        }
      },
      "outputs": [
        {
          "output_type": "stream",
          "name": "stdout",
          "text": [
            "tensor([[-1.0797,  0.5545,  0.8058, -0.7140, -0.1518,  1.0773,  2.3690,  0.8486,\n",
            "         -1.1825, -3.2632],\n",
            "        [-0.3303,  0.2283,  0.4145, -0.1924, -0.0215,  0.3276,  0.7926,  0.2233,\n",
            "         -0.3422, -0.9614],\n",
            "        [-0.5256,  0.9864,  2.4447, -0.0290,  0.2305,  0.5000,  1.9831, -0.0311,\n",
            "         -0.3369, -1.1376],\n",
            "        [ 0.7900, -1.1336, -2.6746,  0.1988, -0.1982, -0.7634, -2.5763, -0.1696,\n",
            "          0.6227,  1.9294],\n",
            "        [ 0.1258,  0.1458,  0.5090,  0.1768,  0.1071, -0.1327, -0.0323, -0.2294,\n",
            "          0.2079,  0.5128],\n",
            "        [ 0.7697,  0.0050,  0.5725,  0.6870,  0.2783, -0.7818, -1.2253, -0.8533,\n",
            "          0.9765,  2.5786],\n",
            "        [ 1.4157, -0.7814, -1.2121,  0.9120,  0.1760, -1.4108, -3.1692, -1.0791,\n",
            "          1.5325,  4.2447],\n",
            "        [-0.0119,  0.6050,  1.7245,  0.2584,  0.2528, -0.0086,  0.7198, -0.3620,\n",
            "          0.1865,  0.3410],\n",
            "        [ 1.0485, -0.6394, -1.0715,  0.6485,  0.1046, -1.0427, -2.4174, -0.7615,\n",
            "          1.1147,  3.1054],\n",
            "        [ 0.9088,  0.1936,  1.2136,  0.8946,  0.4084, -0.9295, -1.2294, -1.1239,\n",
            "          1.2155,  3.1628]])\n"
          ]
        }
      ],
      "source": [
        "d, k = 10, 10\n",
        "\n",
        "# This way we can generate a rank-deficient matrix\n",
        "W_rank = 2\n",
        "W = torch.randn(d, W_rank) @ torch.randn(W_rank, k)\n",
        "print(W)"
      ]
    },
    {
      "cell_type": "code",
      "source": [
        "d, k = 3, 3\n",
        "W = torch.asarray([\n",
        "    [1.3, 2.2, 3.5],\n",
        "    [3.4, 5.3, 8.7],\n",
        "    [5.5, 3.3, 8.8]\n",
        "])"
      ],
      "metadata": {
        "id": "bLCPd4pWh58A"
      },
      "execution_count": 18,
      "outputs": []
    },
    {
      "cell_type": "markdown",
      "metadata": {
        "id": "8STCrznag3Ov"
      },
      "source": [
        "Evaluate the rank of the matrix W"
      ]
    },
    {
      "cell_type": "code",
      "execution_count": 19,
      "metadata": {
        "id": "eEZ_CRIug3Ow",
        "outputId": "8c9badc1-92a2-4698-9d04-0885c2df70eb",
        "colab": {
          "base_uri": "https://localhost:8080/"
        }
      },
      "outputs": [
        {
          "output_type": "stream",
          "name": "stdout",
          "text": [
            "Rank of W: 2\n"
          ]
        }
      ],
      "source": [
        "W_rank = np.linalg.matrix_rank(W)\n",
        "print(f'Rank of W: {W_rank}')"
      ]
    },
    {
      "cell_type": "markdown",
      "metadata": {
        "id": "guFIqwaUg3Ox"
      },
      "source": [
        "Calculate the SVD decomposition of the W matrix."
      ]
    },
    {
      "cell_type": "code",
      "execution_count": 20,
      "metadata": {
        "id": "lqavMZmxg3Oy",
        "outputId": "e51b4e9d-b67c-473c-893e-67bd8595a579",
        "colab": {
          "base_uri": "https://localhost:8080/"
        }
      },
      "outputs": [
        {
          "output_type": "stream",
          "name": "stdout",
          "text": [
            "Shape of B: torch.Size([3, 2])\n",
            "Shape of A: torch.Size([2, 3])\n"
          ]
        }
      ],
      "source": [
        "# Perform SVD on W (W = UxSxV^T)\n",
        "U, S, V = torch.svd(W)\n",
        "\n",
        "# For rank-r factorization, keep only the first r singular values (and corresponding columns of U and V)\n",
        "U_r = U[:, :W_rank]\n",
        "S_r = torch.diag(S[:W_rank])\n",
        "V_r = V[:, :W_rank].t()  # Transpose V_r to get the right dimensions\n",
        "\n",
        "# Compute B = U_r * S_r and A = V_r\n",
        "B = U_r @ S_r\n",
        "A = V_r\n",
        "print(f'Shape of B: {B.shape}')\n",
        "print(f'Shape of A: {A.shape}')"
      ]
    },
    {
      "cell_type": "markdown",
      "metadata": {
        "id": "12wPfnxRg3Oz"
      },
      "source": [
        "Given the same input, check the output using the original W matrix and the matrices resulting from the decomposition."
      ]
    },
    {
      "cell_type": "code",
      "execution_count": 21,
      "metadata": {
        "id": "hVwoUZVgg3O0",
        "outputId": "11aa932d-1da2-4cbb-f2b0-943b3415cde7",
        "colab": {
          "base_uri": "https://localhost:8080/"
        }
      },
      "outputs": [
        {
          "output_type": "stream",
          "name": "stdout",
          "text": [
            "Original y using W:\n",
            " tensor([-3.4429, -6.7475, -5.2298])\n",
            "\n",
            "y' computed using BA:\n",
            " tensor([-3.4429, -6.7475, -5.2298])\n"
          ]
        }
      ],
      "source": [
        "# Generate random bias and input\n",
        "bias = torch.randn(d)\n",
        "x = torch.randn(d)\n",
        "\n",
        "# Compute y = Wx + bias\n",
        "y = W @ x + bias\n",
        "# Compute y' = (B*A)x + bias\n",
        "y_prime = (B @ A) @ x + bias\n",
        "\n",
        "print(\"Original y using W:\\n\", y)\n",
        "print(\"\")\n",
        "print(\"y' computed using BA:\\n\", y_prime)"
      ]
    },
    {
      "cell_type": "code",
      "execution_count": 22,
      "metadata": {
        "id": "M_0qY5_wg3O1",
        "outputId": "3c8ce8f8-3175-4495-e343-4ddac0654678",
        "colab": {
          "base_uri": "https://localhost:8080/"
        }
      },
      "outputs": [
        {
          "output_type": "stream",
          "name": "stdout",
          "text": [
            "Total parameters of W:  9\n",
            "Total parameters of B and A:  12\n"
          ]
        }
      ],
      "source": [
        "print(\"Total parameters of W: \", W.nelement())\n",
        "print(\"Total parameters of B and A: \", B.nelement() + A.nelement())"
      ]
    }
  ],
  "metadata": {
    "kernelspec": {
      "display_name": "pytorch-lora",
      "language": "python",
      "name": "python3"
    },
    "language_info": {
      "codemirror_mode": {
        "name": "ipython",
        "version": 3
      },
      "file_extension": ".py",
      "mimetype": "text/x-python",
      "name": "python",
      "nbconvert_exporter": "python",
      "pygments_lexer": "ipython3",
      "version": "3.11.3"
    },
    "orig_nbformat": 4,
    "colab": {
      "provenance": [],
      "toc_visible": true,
      "include_colab_link": true
    }
  },
  "nbformat": 4,
  "nbformat_minor": 0
}